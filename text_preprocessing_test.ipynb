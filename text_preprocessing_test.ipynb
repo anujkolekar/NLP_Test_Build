{
 "cells": [
  {
   "cell_type": "code",
   "execution_count": 1,
   "metadata": {},
   "outputs": [],
   "source": [
    "import pandas as pd\n",
    "\n",
    "df = pd.read_csv('C:/Users/anuj/Documents/Anuj/MMA/Python Practice/Text Mining/imdb.small.csv')\n"
   ]
  },
  {
   "cell_type": "code",
   "execution_count": 2,
   "metadata": {},
   "outputs": [
    {
     "data": {
      "text/plain": [
       "60"
      ]
     },
     "execution_count": 2,
     "metadata": {},
     "output_type": "execute_result"
    }
   ],
   "source": [
    "pd.get_option('display.max_rows')"
   ]
  },
  {
   "cell_type": "code",
   "execution_count": 3,
   "metadata": {},
   "outputs": [],
   "source": [
    "pd.set_option('display.max_rows', 60)"
   ]
  },
  {
   "cell_type": "code",
   "execution_count": 4,
   "metadata": {},
   "outputs": [
    {
     "data": {
      "text/plain": [
       "50"
      ]
     },
     "execution_count": 4,
     "metadata": {},
     "output_type": "execute_result"
    }
   ],
   "source": [
    "pd.get_option('display.max_colwidth')"
   ]
  },
  {
   "cell_type": "code",
   "execution_count": 5,
   "metadata": {},
   "outputs": [],
   "source": [
    "pd.set_option('display.max_colwidth', 1000)"
   ]
  },
  {
   "cell_type": "code",
   "execution_count": 6,
   "metadata": {},
   "outputs": [
    {
     "data": {
      "text/html": [
       "<div>\n",
       "<style scoped>\n",
       "    .dataframe tbody tr th:only-of-type {\n",
       "        vertical-align: middle;\n",
       "    }\n",
       "\n",
       "    .dataframe tbody tr th {\n",
       "        vertical-align: top;\n",
       "    }\n",
       "\n",
       "    .dataframe thead th {\n",
       "        text-align: right;\n",
       "    }\n",
       "</style>\n",
       "<table border=\"1\" class=\"dataframe\">\n",
       "  <thead>\n",
       "    <tr style=\"text-align: right;\">\n",
       "      <th></th>\n",
       "      <th>id</th>\n",
       "      <th>score</th>\n",
       "      <th>rating</th>\n",
       "      <th>en</th>\n",
       "    </tr>\n",
       "  </thead>\n",
       "  <tbody>\n",
       "    <tr>\n",
       "      <th>0</th>\n",
       "      <td>5998</td>\n",
       "      <td>1</td>\n",
       "      <td>negative</td>\n",
       "      <td>The basic formula for the original series was; take someone, get the audience to like them, then put them into Mortal danger. This formula worked for the 32 episodes made between 1964-68. &lt;br /&gt;&lt;br /&gt;Now, we jump forward 40 years to 2004.. We are introduced to Alan Tracy, a somewhat less-than-diligent college school kid, with his friend, Fermat, a young know-it-all. They are whisked off by Lady Penelope in her pink Ford Thunderbird to the island paradise where the Tracy Family live, for the school holidays. Almost immediately, they are left in the care of Kyrano and his daughter, Tin-Tin whilst the adults go to rescue John from Thunderbird 5 which has been damaged by a staged accident. This is all part of The Hood's scheme to take over Tracy Island so that he can steal the Thunderbird machines ...&lt;br /&gt;&lt;br /&gt;Â…To rob a bank!&lt;br /&gt;&lt;br /&gt;Yes. The plot IS as limp as that!&lt;br /&gt;&lt;br /&gt;The dialogue is banal, the acting more wooden than that of the (fibreglass) puppets, the effects, anyt...</td>\n",
       "    </tr>\n",
       "    <tr>\n",
       "      <th>1</th>\n",
       "      <td>4615</td>\n",
       "      <td>1</td>\n",
       "      <td>negative</td>\n",
       "      <td>I may not have the longest of attention-spans, but this is the second movie I have refused to see all the way through, and I even bought it on DVD because of its \"classic\" status. &lt;br /&gt;&lt;br /&gt;At first, I thought that the director was playing a big joke, so I kept waiting for a resolution, something to laugh at, something to keep my interest, but this resolution never came. Rather, the writing was laughably amateurish, the movie dragged on and felt disjointed, like someone cut a TV series to feature-length. The Academy must have been on drugs when they nominated this movie for no less than eight Oscars.&lt;br /&gt;&lt;br /&gt;Once again, I repeat myself. This is the second movie I have refused to watch all the way through. The first was \"Exterminator\". I hope this gives you an indication of how bad it really is. 1/10</td>\n",
       "    </tr>\n",
       "    <tr>\n",
       "      <th>2</th>\n",
       "      <td>8429</td>\n",
       "      <td>3</td>\n",
       "      <td>negative</td>\n",
       "      <td>\"Disappointing\" is the best word I could think for this film, especially considering the glowing reviews it receives from some other users.&lt;br /&gt;&lt;br /&gt;One thing that really spoils the film is that it is unabashedly partial(in both senses of the word). Not only does it present a very selective description of the games (focussing as it does on the US athletics team) but it also contains several inaccuracies, most of which serve to exaggerate the difficulties the US team faced.&lt;br /&gt;&lt;br /&gt;What is even more disturbing is that all the omissions and mistakes (?), appear to glorify US sportsmanship to the exclusion of other athletes (with a few celebrated exceptions). For example, the viewer is led to believe that the US won the majority of medals in the Games, when in fact they won only one out of four gold medals and one out of 6 total. Similarly, many athletes are portrayed as caricatures of their respective countrymen (thus we have an arrogant Brit, and a wine-swilling French). This ...</td>\n",
       "    </tr>\n",
       "    <tr>\n",
       "      <th>3</th>\n",
       "      <td>10453</td>\n",
       "      <td>10</td>\n",
       "      <td>positive</td>\n",
       "      <td>While traveling by train through Europe, the American Jesse (Ethan Hawke) and the French Celine (Julie Delpy) meet each other and decide to spend the night together in Austria. On the next morning, Jesse returns to United States of America, and Celine to Paris. &lt;br /&gt;&lt;br /&gt;\"Before Sunrise\" is one of my favorite romances, indeed one of the most beautiful love stories I have ever seen. It is a low budget movie with a very simple and real storyline, but the chemistry between Ethan Hawke and Julie Delpy is perfect, and the dialogs are stunning. The direction is amazing, transmitting the feelings of Celine and Jesse to the viewer. I have just completed my review number 1,000 in IMDb, and I choose \"Before Sunrise\" for this significant number because it is a very special film for me. I cannot understand why this movie was not nominated to the Oscar, with such a magnificent screenplay, direction and performances. Yesterday I have probably watched this movie for the third or fourth time, a...</td>\n",
       "    </tr>\n",
       "    <tr>\n",
       "      <th>4</th>\n",
       "      <td>6941</td>\n",
       "      <td>1</td>\n",
       "      <td>negative</td>\n",
       "      <td>This movie is not only boring, it is also really badly done. The graphics are so bad, they are not even second rate - they are dreadful. The characters do not show any facial expresssions, the voice acting is empty and without any soul, and the plot absolutely lacks .... well... anything and everything. My 5 year old likes it - but thinks it's a bit boring. I agree with him.</td>\n",
       "    </tr>\n",
       "    <tr>\n",
       "      <th>...</th>\n",
       "      <td>...</td>\n",
       "      <td>...</td>\n",
       "      <td>...</td>\n",
       "      <td>...</td>\n",
       "    </tr>\n",
       "    <tr>\n",
       "      <th>9995</th>\n",
       "      <td>2589</td>\n",
       "      <td>2</td>\n",
       "      <td>negative</td>\n",
       "      <td>This is so blatantly a made-for-TV ripoff of Black Widow (1987) - even the insect titles are so similar.&lt;br /&gt;&lt;br /&gt;If you want a better \"marrying for money\" movie, check out Black Widow, starring Debra Winger &amp; Theresa Russell.&lt;br /&gt;&lt;br /&gt;These movie is cheesiness at its best..! I just had to watch it entirely to see how it ended.</td>\n",
       "    </tr>\n",
       "    <tr>\n",
       "      <th>9996</th>\n",
       "      <td>3160</td>\n",
       "      <td>10</td>\n",
       "      <td>positive</td>\n",
       "      <td>The whole shorthand for supposedly being more aware in this weird time is that you are \"Blue\". The Blue State mentality. This is supposed to get us off the hook for what is/was happening during the last few years in our country (The USA). It doesn't get anyone off the hook but it makes us feel better, as though we aren't benefiting in any way from living here and getting all the good stuff that a US citizen gets just by being a US citizen. &lt;br /&gt;&lt;br /&gt;But I'm so sick of bitching about this. It doesn't do any good. I haven't taken much action lately and I wonder how many people have. Maybe I'm just down because my job was \"outsourced\" last month and now I'm looking for work in the shrinking tech support field where most of the jobs are quickly going to India and other places overseas. I'm thinking that soon it's not going to pay off to be a citizen here with the screwed up infrastructure and the shrinking job market and the obsession with war. These days it seems like anyone who sp...</td>\n",
       "    </tr>\n",
       "    <tr>\n",
       "      <th>9997</th>\n",
       "      <td>9561</td>\n",
       "      <td>2</td>\n",
       "      <td>negative</td>\n",
       "      <td>Like many others have commented before me here, I have to say that this movie is bad, but not the worst I've seen. There will be no direct references to movie plots or sequences in this comment, because I hate spoilers.&lt;br /&gt;&lt;br /&gt;I got a feeling I was watching an episode of a TV show or something, where they had gotten a hold of some extra $$$ to spend on CGI (I've seen worse of those)... All in all, it is quite an insult to the viewer, at least if you have ANY knowledge about computers and/or technology at all. There are just too many of these moments of insults to make me feel comfortable, and I found myself just begging for it all to end - fast - halfway through. In addition, there are countless \"easy way out\" scenarios, which also is an insult to your intelligence as a thinking human being...&lt;br /&gt;&lt;br /&gt;This movie absolutely fades in comparison to the old \"Wargames\", and I think it's a damn shame they even got to call it a sequel.&lt;br /&gt;&lt;br /&gt;Two stars from me, because of one ...</td>\n",
       "    </tr>\n",
       "    <tr>\n",
       "      <th>9998</th>\n",
       "      <td>9461</td>\n",
       "      <td>1</td>\n",
       "      <td>negative</td>\n",
       "      <td>The Cat in the Hat is just a slap in the face film. Mike Myers as The Cat in the Hat is downright not funny and Mike Myers could not have been any worse. This is his worst film he has ever been in. The acting and the story was just terrible. I mean how could they make the most beloved stories by Dr. Seuss be made into film and being one of the worst films of all-time and such a disappointment. I couldn't have seen a more worst film than this besides, maybe Baby Geniuses. But this film is just so bad I can't even describe how badly they made this film. Bo Welch should be fired or the writer should. &lt;br /&gt;&lt;br /&gt;Hedeen's outlook: 0/10 No Stars F</td>\n",
       "    </tr>\n",
       "    <tr>\n",
       "      <th>9999</th>\n",
       "      <td>7073</td>\n",
       "      <td>4</td>\n",
       "      <td>negative</td>\n",
       "      <td>Teenager Tamara (Jenna Dewan) has it rough. She's ridiculed by all the popular \"kids\" for being shy, bookish, frumpy and because of her interest in witchcraft. All of the football players and cheerleaders are especially angry at her for writing an article on steroid abuse for the school paper. On top of this, her dad's a drunk, her mom's not around and she's secretly in love with her supportive English teacher (Matthew Marsden). The popular kids set up a cruel prank to humiliate her, accidentally kill her during a struggle, bury the body in the woods and make a pact to keep silent. To their shock, the very next day Tamara walks back into the classroom looking seductive and, uh, dressed to kill. Yep, back from the dead and ready for supernatural revenge against everyone involved. She also takes time out to make her sexually abusive pop eat a beer bottle and tries to seduce her English teacher away from his wife (Claudette Mink), a guidance counselor at the school.&lt;br /&gt;&lt;br /&gt;Acting...</td>\n",
       "    </tr>\n",
       "  </tbody>\n",
       "</table>\n",
       "<p>10000 rows × 4 columns</p>\n",
       "</div>"
      ],
      "text/plain": [
       "         id  score     rating  \\\n",
       "0      5998      1   negative   \n",
       "1      4615      1   negative   \n",
       "2      8429      3   negative   \n",
       "3     10453     10   positive   \n",
       "4      6941      1   negative   \n",
       "...     ...    ...        ...   \n",
       "9995   2589      2   negative   \n",
       "9996   3160     10   positive   \n",
       "9997   9561      2   negative   \n",
       "9998   9461      1   negative   \n",
       "9999   7073      4   negative   \n",
       "\n",
       "                                                                                                                                                                                                                                                                                                                                                                                                                                                                                                                                                                                                                                                                                                                                                                                                                                                                                                                                                                                                                                           en  \n",
       "0      The basic formula for the original series was; take someone, get the audience to like them, then put them into Mortal danger. This formula worked for the 32 episodes made between 1964-68. <br /><br />Now, we jump forward 40 years to 2004.. We are introduced to Alan Tracy, a somewhat less-than-diligent college school kid, with his friend, Fermat, a young know-it-all. They are whisked off by Lady Penelope in her pink Ford Thunderbird to the island paradise where the Tracy Family live, for the school holidays. Almost immediately, they are left in the care of Kyrano and his daughter, Tin-Tin whilst the adults go to rescue John from Thunderbird 5 which has been damaged by a staged accident. This is all part of The Hood's scheme to take over Tracy Island so that he can steal the Thunderbird machines ...<br /><br />Â…To rob a bank!<br /><br />Yes. The plot IS as limp as that!<br /><br />The dialogue is banal, the acting more wooden than that of the (fibreglass) puppets, the effects, anyt...  \n",
       "1                                                                                                                                                                                             I may not have the longest of attention-spans, but this is the second movie I have refused to see all the way through, and I even bought it on DVD because of its \"classic\" status. <br /><br />At first, I thought that the director was playing a big joke, so I kept waiting for a resolution, something to laugh at, something to keep my interest, but this resolution never came. Rather, the writing was laughably amateurish, the movie dragged on and felt disjointed, like someone cut a TV series to feature-length. The Academy must have been on drugs when they nominated this movie for no less than eight Oscars.<br /><br />Once again, I repeat myself. This is the second movie I have refused to watch all the way through. The first was \"Exterminator\". I hope this gives you an indication of how bad it really is. 1/10  \n",
       "2      \"Disappointing\" is the best word I could think for this film, especially considering the glowing reviews it receives from some other users.<br /><br />One thing that really spoils the film is that it is unabashedly partial(in both senses of the word). Not only does it present a very selective description of the games (focussing as it does on the US athletics team) but it also contains several inaccuracies, most of which serve to exaggerate the difficulties the US team faced.<br /><br />What is even more disturbing is that all the omissions and mistakes (?), appear to glorify US sportsmanship to the exclusion of other athletes (with a few celebrated exceptions). For example, the viewer is led to believe that the US won the majority of medals in the Games, when in fact they won only one out of four gold medals and one out of 6 total. Similarly, many athletes are portrayed as caricatures of their respective countrymen (thus we have an arrogant Brit, and a wine-swilling French). This ...  \n",
       "3      While traveling by train through Europe, the American Jesse (Ethan Hawke) and the French Celine (Julie Delpy) meet each other and decide to spend the night together in Austria. On the next morning, Jesse returns to United States of America, and Celine to Paris. <br /><br />\"Before Sunrise\" is one of my favorite romances, indeed one of the most beautiful love stories I have ever seen. It is a low budget movie with a very simple and real storyline, but the chemistry between Ethan Hawke and Julie Delpy is perfect, and the dialogs are stunning. The direction is amazing, transmitting the feelings of Celine and Jesse to the viewer. I have just completed my review number 1,000 in IMDb, and I choose \"Before Sunrise\" for this significant number because it is a very special film for me. I cannot understand why this movie was not nominated to the Oscar, with such a magnificent screenplay, direction and performances. Yesterday I have probably watched this movie for the third or fourth time, a...  \n",
       "4                                                                                                                                                                                                                                                                                                                                                                                                                                                                                                                                                                                                                                                   This movie is not only boring, it is also really badly done. The graphics are so bad, they are not even second rate - they are dreadful. The characters do not show any facial expresssions, the voice acting is empty and without any soul, and the plot absolutely lacks .... well... anything and everything. My 5 year old likes it - but thinks it's a bit boring. I agree with him.  \n",
       "...                                                                                                                                                                                                                                                                                                                                                                                                                                                                                                                                                                                                                                                                                                                                                                                                                                                                                                                                                                                                                                       ...  \n",
       "9995                                                                                                                                                                                                                                                                                                                                                                                                                                                                                                                                                                                                                                                                                            This is so blatantly a made-for-TV ripoff of Black Widow (1987) - even the insect titles are so similar.<br /><br />If you want a better \"marrying for money\" movie, check out Black Widow, starring Debra Winger & Theresa Russell.<br /><br />These movie is cheesiness at its best..! I just had to watch it entirely to see how it ended.  \n",
       "9996   The whole shorthand for supposedly being more aware in this weird time is that you are \"Blue\". The Blue State mentality. This is supposed to get us off the hook for what is/was happening during the last few years in our country (The USA). It doesn't get anyone off the hook but it makes us feel better, as though we aren't benefiting in any way from living here and getting all the good stuff that a US citizen gets just by being a US citizen. <br /><br />But I'm so sick of bitching about this. It doesn't do any good. I haven't taken much action lately and I wonder how many people have. Maybe I'm just down because my job was \"outsourced\" last month and now I'm looking for work in the shrinking tech support field where most of the jobs are quickly going to India and other places overseas. I'm thinking that soon it's not going to pay off to be a citizen here with the screwed up infrastructure and the shrinking job market and the obsession with war. These days it seems like anyone who sp...  \n",
       "9997   Like many others have commented before me here, I have to say that this movie is bad, but not the worst I've seen. There will be no direct references to movie plots or sequences in this comment, because I hate spoilers.<br /><br />I got a feeling I was watching an episode of a TV show or something, where they had gotten a hold of some extra $$$ to spend on CGI (I've seen worse of those)... All in all, it is quite an insult to the viewer, at least if you have ANY knowledge about computers and/or technology at all. There are just too many of these moments of insults to make me feel comfortable, and I found myself just begging for it all to end - fast - halfway through. In addition, there are countless \"easy way out\" scenarios, which also is an insult to your intelligence as a thinking human being...<br /><br />This movie absolutely fades in comparison to the old \"Wargames\", and I think it's a damn shame they even got to call it a sequel.<br /><br />Two stars from me, because of one ...  \n",
       "9998                                                                                                                                                                                                                                                                                                                                                               The Cat in the Hat is just a slap in the face film. Mike Myers as The Cat in the Hat is downright not funny and Mike Myers could not have been any worse. This is his worst film he has ever been in. The acting and the story was just terrible. I mean how could they make the most beloved stories by Dr. Seuss be made into film and being one of the worst films of all-time and such a disappointment. I couldn't have seen a more worst film than this besides, maybe Baby Geniuses. But this film is just so bad I can't even describe how badly they made this film. Bo Welch should be fired or the writer should. <br /><br />Hedeen's outlook: 0/10 No Stars F  \n",
       "9999   Teenager Tamara (Jenna Dewan) has it rough. She's ridiculed by all the popular \"kids\" for being shy, bookish, frumpy and because of her interest in witchcraft. All of the football players and cheerleaders are especially angry at her for writing an article on steroid abuse for the school paper. On top of this, her dad's a drunk, her mom's not around and she's secretly in love with her supportive English teacher (Matthew Marsden). The popular kids set up a cruel prank to humiliate her, accidentally kill her during a struggle, bury the body in the woods and make a pact to keep silent. To their shock, the very next day Tamara walks back into the classroom looking seductive and, uh, dressed to kill. Yep, back from the dead and ready for supernatural revenge against everyone involved. She also takes time out to make her sexually abusive pop eat a beer bottle and tries to seduce her English teacher away from his wife (Claudette Mink), a guidance counselor at the school.<br /><br />Acting...  \n",
       "\n",
       "[10000 rows x 4 columns]"
      ]
     },
     "execution_count": 6,
     "metadata": {},
     "output_type": "execute_result"
    }
   ],
   "source": [
    "df"
   ]
  },
  {
   "cell_type": "code",
   "execution_count": 7,
   "metadata": {},
   "outputs": [],
   "source": [
    "import nltk"
   ]
  },
  {
   "cell_type": "code",
   "execution_count": 8,
   "metadata": {},
   "outputs": [
    {
     "data": {
      "text/plain": [
       "(10000, 4)"
      ]
     },
     "execution_count": 8,
     "metadata": {},
     "output_type": "execute_result"
    }
   ],
   "source": [
    "df.shape"
   ]
  },
  {
   "cell_type": "code",
   "execution_count": 9,
   "metadata": {},
   "outputs": [
    {
     "name": "stdout",
     "output_type": "stream",
     "text": [
      "<class 'pandas.core.frame.DataFrame'>\n",
      "RangeIndex: 10000 entries, 0 to 9999\n",
      "Data columns (total 4 columns):\n",
      " #   Column  Non-Null Count  Dtype \n",
      "---  ------  --------------  ----- \n",
      " 0   id      10000 non-null  int64 \n",
      " 1   score   10000 non-null  int64 \n",
      " 2   rating  10000 non-null  object\n",
      " 3   en      10000 non-null  object\n",
      "dtypes: int64(2), object(2)\n",
      "memory usage: 312.6+ KB\n"
     ]
    }
   ],
   "source": [
    "df.info()"
   ]
  },
  {
   "cell_type": "code",
   "execution_count": 10,
   "metadata": {},
   "outputs": [
    {
     "data": {
      "text/plain": [
       "0     The basic formula for the original series was; take someone, get the audience to like them, then put them into Mortal danger. This formula worked for the 32 episodes made between 1964-68. <br /><br />Now, we jump forward 40 years to 2004.. We are introduced to Alan Tracy, a somewhat less-than-diligent college school kid, with his friend, Fermat, a young know-it-all. They are whisked off by Lady Penelope in her pink Ford Thunderbird to the island paradise where the Tracy Family live, for the school holidays. Almost immediately, they are left in the care of Kyrano and his daughter, Tin-Tin whilst the adults go to rescue John from Thunderbird 5 which has been damaged by a staged accident. This is all part of The Hood's scheme to take over Tracy Island so that he can steal the Thunderbird machines ...<br /><br />Â…To rob a bank!<br /><br />Yes. The plot IS as limp as that!<br /><br />The dialogue is banal, the acting more wooden than that of the (fibreglass) puppets, the effects, anyt...\n",
       "Name: en, dtype: object"
      ]
     },
     "execution_count": 10,
     "metadata": {},
     "output_type": "execute_result"
    }
   ],
   "source": [
    "df['en'].head(1)"
   ]
  },
  {
   "cell_type": "code",
   "execution_count": 11,
   "metadata": {},
   "outputs": [
    {
     "data": {
      "text/html": [
       "<div>\n",
       "<style scoped>\n",
       "    .dataframe tbody tr th:only-of-type {\n",
       "        vertical-align: middle;\n",
       "    }\n",
       "\n",
       "    .dataframe tbody tr th {\n",
       "        vertical-align: top;\n",
       "    }\n",
       "\n",
       "    .dataframe thead th {\n",
       "        text-align: right;\n",
       "    }\n",
       "</style>\n",
       "<table border=\"1\" class=\"dataframe\">\n",
       "  <thead>\n",
       "    <tr style=\"text-align: right;\">\n",
       "      <th></th>\n",
       "      <th>en</th>\n",
       "      <th>word_count</th>\n",
       "    </tr>\n",
       "  </thead>\n",
       "  <tbody>\n",
       "    <tr>\n",
       "      <th>0</th>\n",
       "      <td>The basic formula for the original series was; take someone, get the audience to like them, then put them into Mortal danger. This formula worked for the 32 episodes made between 1964-68. &lt;br /&gt;&lt;br /&gt;Now, we jump forward 40 years to 2004.. We are introduced to Alan Tracy, a somewhat less-than-diligent college school kid, with his friend, Fermat, a young know-it-all. They are whisked off by Lady Penelope in her pink Ford Thunderbird to the island paradise where the Tracy Family live, for the school holidays. Almost immediately, they are left in the care of Kyrano and his daughter, Tin-Tin whilst the adults go to rescue John from Thunderbird 5 which has been damaged by a staged accident. This is all part of The Hood's scheme to take over Tracy Island so that he can steal the Thunderbird machines ...&lt;br /&gt;&lt;br /&gt;Â…To rob a bank!&lt;br /&gt;&lt;br /&gt;Yes. The plot IS as limp as that!&lt;br /&gt;&lt;br /&gt;The dialogue is banal, the acting more wooden than that of the (fibreglass) puppets, the effects, anyt...</td>\n",
       "      <td>445</td>\n",
       "    </tr>\n",
       "    <tr>\n",
       "      <th>1</th>\n",
       "      <td>I may not have the longest of attention-spans, but this is the second movie I have refused to see all the way through, and I even bought it on DVD because of its \"classic\" status. &lt;br /&gt;&lt;br /&gt;At first, I thought that the director was playing a big joke, so I kept waiting for a resolution, something to laugh at, something to keep my interest, but this resolution never came. Rather, the writing was laughably amateurish, the movie dragged on and felt disjointed, like someone cut a TV series to feature-length. The Academy must have been on drugs when they nominated this movie for no less than eight Oscars.&lt;br /&gt;&lt;br /&gt;Once again, I repeat myself. This is the second movie I have refused to watch all the way through. The first was \"Exterminator\". I hope this gives you an indication of how bad it really is. 1/10</td>\n",
       "      <td>148</td>\n",
       "    </tr>\n",
       "    <tr>\n",
       "      <th>2</th>\n",
       "      <td>\"Disappointing\" is the best word I could think for this film, especially considering the glowing reviews it receives from some other users.&lt;br /&gt;&lt;br /&gt;One thing that really spoils the film is that it is unabashedly partial(in both senses of the word). Not only does it present a very selective description of the games (focussing as it does on the US athletics team) but it also contains several inaccuracies, most of which serve to exaggerate the difficulties the US team faced.&lt;br /&gt;&lt;br /&gt;What is even more disturbing is that all the omissions and mistakes (?), appear to glorify US sportsmanship to the exclusion of other athletes (with a few celebrated exceptions). For example, the viewer is led to believe that the US won the majority of medals in the Games, when in fact they won only one out of four gold medals and one out of 6 total. Similarly, many athletes are portrayed as caricatures of their respective countrymen (thus we have an arrogant Brit, and a wine-swilling French). This ...</td>\n",
       "      <td>230</td>\n",
       "    </tr>\n",
       "    <tr>\n",
       "      <th>3</th>\n",
       "      <td>While traveling by train through Europe, the American Jesse (Ethan Hawke) and the French Celine (Julie Delpy) meet each other and decide to spend the night together in Austria. On the next morning, Jesse returns to United States of America, and Celine to Paris. &lt;br /&gt;&lt;br /&gt;\"Before Sunrise\" is one of my favorite romances, indeed one of the most beautiful love stories I have ever seen. It is a low budget movie with a very simple and real storyline, but the chemistry between Ethan Hawke and Julie Delpy is perfect, and the dialogs are stunning. The direction is amazing, transmitting the feelings of Celine and Jesse to the viewer. I have just completed my review number 1,000 in IMDb, and I choose \"Before Sunrise\" for this significant number because it is a very special film for me. I cannot understand why this movie was not nominated to the Oscar, with such a magnificent screenplay, direction and performances. Yesterday I have probably watched this movie for the third or fourth time, a...</td>\n",
       "      <td>188</td>\n",
       "    </tr>\n",
       "    <tr>\n",
       "      <th>4</th>\n",
       "      <td>This movie is not only boring, it is also really badly done. The graphics are so bad, they are not even second rate - they are dreadful. The characters do not show any facial expresssions, the voice acting is empty and without any soul, and the plot absolutely lacks .... well... anything and everything. My 5 year old likes it - but thinks it's a bit boring. I agree with him.</td>\n",
       "      <td>72</td>\n",
       "    </tr>\n",
       "  </tbody>\n",
       "</table>\n",
       "</div>"
      ],
      "text/plain": [
       "                                                                                                                                                                                                                                                                                                                                                                                                                                                                                                                                                                                                                                                                                                                                                                                                                                                                                                                                                                                                                                        en  \\\n",
       "0   The basic formula for the original series was; take someone, get the audience to like them, then put them into Mortal danger. This formula worked for the 32 episodes made between 1964-68. <br /><br />Now, we jump forward 40 years to 2004.. We are introduced to Alan Tracy, a somewhat less-than-diligent college school kid, with his friend, Fermat, a young know-it-all. They are whisked off by Lady Penelope in her pink Ford Thunderbird to the island paradise where the Tracy Family live, for the school holidays. Almost immediately, they are left in the care of Kyrano and his daughter, Tin-Tin whilst the adults go to rescue John from Thunderbird 5 which has been damaged by a staged accident. This is all part of The Hood's scheme to take over Tracy Island so that he can steal the Thunderbird machines ...<br /><br />Â…To rob a bank!<br /><br />Yes. The plot IS as limp as that!<br /><br />The dialogue is banal, the acting more wooden than that of the (fibreglass) puppets, the effects, anyt...   \n",
       "1                                                                                                                                                                                          I may not have the longest of attention-spans, but this is the second movie I have refused to see all the way through, and I even bought it on DVD because of its \"classic\" status. <br /><br />At first, I thought that the director was playing a big joke, so I kept waiting for a resolution, something to laugh at, something to keep my interest, but this resolution never came. Rather, the writing was laughably amateurish, the movie dragged on and felt disjointed, like someone cut a TV series to feature-length. The Academy must have been on drugs when they nominated this movie for no less than eight Oscars.<br /><br />Once again, I repeat myself. This is the second movie I have refused to watch all the way through. The first was \"Exterminator\". I hope this gives you an indication of how bad it really is. 1/10   \n",
       "2   \"Disappointing\" is the best word I could think for this film, especially considering the glowing reviews it receives from some other users.<br /><br />One thing that really spoils the film is that it is unabashedly partial(in both senses of the word). Not only does it present a very selective description of the games (focussing as it does on the US athletics team) but it also contains several inaccuracies, most of which serve to exaggerate the difficulties the US team faced.<br /><br />What is even more disturbing is that all the omissions and mistakes (?), appear to glorify US sportsmanship to the exclusion of other athletes (with a few celebrated exceptions). For example, the viewer is led to believe that the US won the majority of medals in the Games, when in fact they won only one out of four gold medals and one out of 6 total. Similarly, many athletes are portrayed as caricatures of their respective countrymen (thus we have an arrogant Brit, and a wine-swilling French). This ...   \n",
       "3   While traveling by train through Europe, the American Jesse (Ethan Hawke) and the French Celine (Julie Delpy) meet each other and decide to spend the night together in Austria. On the next morning, Jesse returns to United States of America, and Celine to Paris. <br /><br />\"Before Sunrise\" is one of my favorite romances, indeed one of the most beautiful love stories I have ever seen. It is a low budget movie with a very simple and real storyline, but the chemistry between Ethan Hawke and Julie Delpy is perfect, and the dialogs are stunning. The direction is amazing, transmitting the feelings of Celine and Jesse to the viewer. I have just completed my review number 1,000 in IMDb, and I choose \"Before Sunrise\" for this significant number because it is a very special film for me. I cannot understand why this movie was not nominated to the Oscar, with such a magnificent screenplay, direction and performances. Yesterday I have probably watched this movie for the third or fourth time, a...   \n",
       "4                                                                                                                                                                                                                                                                                                                                                                                                                                                                                                                                                                                                                                                This movie is not only boring, it is also really badly done. The graphics are so bad, they are not even second rate - they are dreadful. The characters do not show any facial expresssions, the voice acting is empty and without any soul, and the plot absolutely lacks .... well... anything and everything. My 5 year old likes it - but thinks it's a bit boring. I agree with him.   \n",
       "\n",
       "   word_count  \n",
       "0         445  \n",
       "1         148  \n",
       "2         230  \n",
       "3         188  \n",
       "4          72  "
      ]
     },
     "execution_count": 11,
     "metadata": {},
     "output_type": "execute_result"
    }
   ],
   "source": [
    "#Word Count\n",
    "df['word_count'] = df['en'].apply(lambda x: len(str(x).split(\" \")))\n",
    "df[['en','word_count']].head()"
   ]
  },
  {
   "cell_type": "code",
   "execution_count": 12,
   "metadata": {},
   "outputs": [
    {
     "data": {
      "text/html": [
       "<div>\n",
       "<style scoped>\n",
       "    .dataframe tbody tr th:only-of-type {\n",
       "        vertical-align: middle;\n",
       "    }\n",
       "\n",
       "    .dataframe tbody tr th {\n",
       "        vertical-align: top;\n",
       "    }\n",
       "\n",
       "    .dataframe thead th {\n",
       "        text-align: right;\n",
       "    }\n",
       "</style>\n",
       "<table border=\"1\" class=\"dataframe\">\n",
       "  <thead>\n",
       "    <tr style=\"text-align: right;\">\n",
       "      <th></th>\n",
       "      <th>en</th>\n",
       "      <th>char_count</th>\n",
       "    </tr>\n",
       "  </thead>\n",
       "  <tbody>\n",
       "    <tr>\n",
       "      <th>0</th>\n",
       "      <td>The basic formula for the original series was; take someone, get the audience to like them, then put them into Mortal danger. This formula worked for the 32 episodes made between 1964-68. &lt;br /&gt;&lt;br /&gt;Now, we jump forward 40 years to 2004.. We are introduced to Alan Tracy, a somewhat less-than-diligent college school kid, with his friend, Fermat, a young know-it-all. They are whisked off by Lady Penelope in her pink Ford Thunderbird to the island paradise where the Tracy Family live, for the school holidays. Almost immediately, they are left in the care of Kyrano and his daughter, Tin-Tin whilst the adults go to rescue John from Thunderbird 5 which has been damaged by a staged accident. This is all part of The Hood's scheme to take over Tracy Island so that he can steal the Thunderbird machines ...&lt;br /&gt;&lt;br /&gt;Â…To rob a bank!&lt;br /&gt;&lt;br /&gt;Yes. The plot IS as limp as that!&lt;br /&gt;&lt;br /&gt;The dialogue is banal, the acting more wooden than that of the (fibreglass) puppets, the effects, anyt...</td>\n",
       "      <td>2582</td>\n",
       "    </tr>\n",
       "    <tr>\n",
       "      <th>1</th>\n",
       "      <td>I may not have the longest of attention-spans, but this is the second movie I have refused to see all the way through, and I even bought it on DVD because of its \"classic\" status. &lt;br /&gt;&lt;br /&gt;At first, I thought that the director was playing a big joke, so I kept waiting for a resolution, something to laugh at, something to keep my interest, but this resolution never came. Rather, the writing was laughably amateurish, the movie dragged on and felt disjointed, like someone cut a TV series to feature-length. The Academy must have been on drugs when they nominated this movie for no less than eight Oscars.&lt;br /&gt;&lt;br /&gt;Once again, I repeat myself. This is the second movie I have refused to watch all the way through. The first was \"Exterminator\". I hope this gives you an indication of how bad it really is. 1/10</td>\n",
       "      <td>816</td>\n",
       "    </tr>\n",
       "    <tr>\n",
       "      <th>2</th>\n",
       "      <td>\"Disappointing\" is the best word I could think for this film, especially considering the glowing reviews it receives from some other users.&lt;br /&gt;&lt;br /&gt;One thing that really spoils the film is that it is unabashedly partial(in both senses of the word). Not only does it present a very selective description of the games (focussing as it does on the US athletics team) but it also contains several inaccuracies, most of which serve to exaggerate the difficulties the US team faced.&lt;br /&gt;&lt;br /&gt;What is even more disturbing is that all the omissions and mistakes (?), appear to glorify US sportsmanship to the exclusion of other athletes (with a few celebrated exceptions). For example, the viewer is led to believe that the US won the majority of medals in the Games, when in fact they won only one out of four gold medals and one out of 6 total. Similarly, many athletes are portrayed as caricatures of their respective countrymen (thus we have an arrogant Brit, and a wine-swilling French). This ...</td>\n",
       "      <td>1356</td>\n",
       "    </tr>\n",
       "    <tr>\n",
       "      <th>3</th>\n",
       "      <td>While traveling by train through Europe, the American Jesse (Ethan Hawke) and the French Celine (Julie Delpy) meet each other and decide to spend the night together in Austria. On the next morning, Jesse returns to United States of America, and Celine to Paris. &lt;br /&gt;&lt;br /&gt;\"Before Sunrise\" is one of my favorite romances, indeed one of the most beautiful love stories I have ever seen. It is a low budget movie with a very simple and real storyline, but the chemistry between Ethan Hawke and Julie Delpy is perfect, and the dialogs are stunning. The direction is amazing, transmitting the feelings of Celine and Jesse to the viewer. I have just completed my review number 1,000 in IMDb, and I choose \"Before Sunrise\" for this significant number because it is a very special film for me. I cannot understand why this movie was not nominated to the Oscar, with such a magnificent screenplay, direction and performances. Yesterday I have probably watched this movie for the third or fourth time, a...</td>\n",
       "      <td>1098</td>\n",
       "    </tr>\n",
       "    <tr>\n",
       "      <th>4</th>\n",
       "      <td>This movie is not only boring, it is also really badly done. The graphics are so bad, they are not even second rate - they are dreadful. The characters do not show any facial expresssions, the voice acting is empty and without any soul, and the plot absolutely lacks .... well... anything and everything. My 5 year old likes it - but thinks it's a bit boring. I agree with him.</td>\n",
       "      <td>378</td>\n",
       "    </tr>\n",
       "  </tbody>\n",
       "</table>\n",
       "</div>"
      ],
      "text/plain": [
       "                                                                                                                                                                                                                                                                                                                                                                                                                                                                                                                                                                                                                                                                                                                                                                                                                                                                                                                                                                                                                                        en  \\\n",
       "0   The basic formula for the original series was; take someone, get the audience to like them, then put them into Mortal danger. This formula worked for the 32 episodes made between 1964-68. <br /><br />Now, we jump forward 40 years to 2004.. We are introduced to Alan Tracy, a somewhat less-than-diligent college school kid, with his friend, Fermat, a young know-it-all. They are whisked off by Lady Penelope in her pink Ford Thunderbird to the island paradise where the Tracy Family live, for the school holidays. Almost immediately, they are left in the care of Kyrano and his daughter, Tin-Tin whilst the adults go to rescue John from Thunderbird 5 which has been damaged by a staged accident. This is all part of The Hood's scheme to take over Tracy Island so that he can steal the Thunderbird machines ...<br /><br />Â…To rob a bank!<br /><br />Yes. The plot IS as limp as that!<br /><br />The dialogue is banal, the acting more wooden than that of the (fibreglass) puppets, the effects, anyt...   \n",
       "1                                                                                                                                                                                          I may not have the longest of attention-spans, but this is the second movie I have refused to see all the way through, and I even bought it on DVD because of its \"classic\" status. <br /><br />At first, I thought that the director was playing a big joke, so I kept waiting for a resolution, something to laugh at, something to keep my interest, but this resolution never came. Rather, the writing was laughably amateurish, the movie dragged on and felt disjointed, like someone cut a TV series to feature-length. The Academy must have been on drugs when they nominated this movie for no less than eight Oscars.<br /><br />Once again, I repeat myself. This is the second movie I have refused to watch all the way through. The first was \"Exterminator\". I hope this gives you an indication of how bad it really is. 1/10   \n",
       "2   \"Disappointing\" is the best word I could think for this film, especially considering the glowing reviews it receives from some other users.<br /><br />One thing that really spoils the film is that it is unabashedly partial(in both senses of the word). Not only does it present a very selective description of the games (focussing as it does on the US athletics team) but it also contains several inaccuracies, most of which serve to exaggerate the difficulties the US team faced.<br /><br />What is even more disturbing is that all the omissions and mistakes (?), appear to glorify US sportsmanship to the exclusion of other athletes (with a few celebrated exceptions). For example, the viewer is led to believe that the US won the majority of medals in the Games, when in fact they won only one out of four gold medals and one out of 6 total. Similarly, many athletes are portrayed as caricatures of their respective countrymen (thus we have an arrogant Brit, and a wine-swilling French). This ...   \n",
       "3   While traveling by train through Europe, the American Jesse (Ethan Hawke) and the French Celine (Julie Delpy) meet each other and decide to spend the night together in Austria. On the next morning, Jesse returns to United States of America, and Celine to Paris. <br /><br />\"Before Sunrise\" is one of my favorite romances, indeed one of the most beautiful love stories I have ever seen. It is a low budget movie with a very simple and real storyline, but the chemistry between Ethan Hawke and Julie Delpy is perfect, and the dialogs are stunning. The direction is amazing, transmitting the feelings of Celine and Jesse to the viewer. I have just completed my review number 1,000 in IMDb, and I choose \"Before Sunrise\" for this significant number because it is a very special film for me. I cannot understand why this movie was not nominated to the Oscar, with such a magnificent screenplay, direction and performances. Yesterday I have probably watched this movie for the third or fourth time, a...   \n",
       "4                                                                                                                                                                                                                                                                                                                                                                                                                                                                                                                                                                                                                                                This movie is not only boring, it is also really badly done. The graphics are so bad, they are not even second rate - they are dreadful. The characters do not show any facial expresssions, the voice acting is empty and without any soul, and the plot absolutely lacks .... well... anything and everything. My 5 year old likes it - but thinks it's a bit boring. I agree with him.   \n",
       "\n",
       "   char_count  \n",
       "0        2582  \n",
       "1         816  \n",
       "2        1356  \n",
       "3        1098  \n",
       "4         378  "
      ]
     },
     "execution_count": 12,
     "metadata": {},
     "output_type": "execute_result"
    }
   ],
   "source": [
    "#Character Count\n",
    "df['char_count'] = df['en'].str.len() ## this also includes spaces\n",
    "df[['en','char_count']].head()"
   ]
  },
  {
   "cell_type": "code",
   "execution_count": 13,
   "metadata": {},
   "outputs": [
    {
     "data": {
      "text/html": [
       "<div>\n",
       "<style scoped>\n",
       "    .dataframe tbody tr th:only-of-type {\n",
       "        vertical-align: middle;\n",
       "    }\n",
       "\n",
       "    .dataframe tbody tr th {\n",
       "        vertical-align: top;\n",
       "    }\n",
       "\n",
       "    .dataframe thead th {\n",
       "        text-align: right;\n",
       "    }\n",
       "</style>\n",
       "<table border=\"1\" class=\"dataframe\">\n",
       "  <thead>\n",
       "    <tr style=\"text-align: right;\">\n",
       "      <th></th>\n",
       "      <th>en</th>\n",
       "      <th>avg_word</th>\n",
       "    </tr>\n",
       "  </thead>\n",
       "  <tbody>\n",
       "    <tr>\n",
       "      <th>0</th>\n",
       "      <td>The basic formula for the original series was; take someone, get the audience to like them, then put them into Mortal danger. This formula worked for the 32 episodes made between 1964-68. &lt;br /&gt;&lt;br /&gt;Now, we jump forward 40 years to 2004.. We are introduced to Alan Tracy, a somewhat less-than-diligent college school kid, with his friend, Fermat, a young know-it-all. They are whisked off by Lady Penelope in her pink Ford Thunderbird to the island paradise where the Tracy Family live, for the school holidays. Almost immediately, they are left in the care of Kyrano and his daughter, Tin-Tin whilst the adults go to rescue John from Thunderbird 5 which has been damaged by a staged accident. This is all part of The Hood's scheme to take over Tracy Island so that he can steal the Thunderbird machines ...&lt;br /&gt;&lt;br /&gt;Â…To rob a bank!&lt;br /&gt;&lt;br /&gt;Yes. The plot IS as limp as that!&lt;br /&gt;&lt;br /&gt;The dialogue is banal, the acting more wooden than that of the (fibreglass) puppets, the effects, anyt...</td>\n",
       "      <td>4.815315</td>\n",
       "    </tr>\n",
       "    <tr>\n",
       "      <th>1</th>\n",
       "      <td>I may not have the longest of attention-spans, but this is the second movie I have refused to see all the way through, and I even bought it on DVD because of its \"classic\" status. &lt;br /&gt;&lt;br /&gt;At first, I thought that the director was playing a big joke, so I kept waiting for a resolution, something to laugh at, something to keep my interest, but this resolution never came. Rather, the writing was laughably amateurish, the movie dragged on and felt disjointed, like someone cut a TV series to feature-length. The Academy must have been on drugs when they nominated this movie for no less than eight Oscars.&lt;br /&gt;&lt;br /&gt;Once again, I repeat myself. This is the second movie I have refused to watch all the way through. The first was \"Exterminator\". I hope this gives you an indication of how bad it really is. 1/10</td>\n",
       "      <td>4.551020</td>\n",
       "    </tr>\n",
       "    <tr>\n",
       "      <th>2</th>\n",
       "      <td>\"Disappointing\" is the best word I could think for this film, especially considering the glowing reviews it receives from some other users.&lt;br /&gt;&lt;br /&gt;One thing that really spoils the film is that it is unabashedly partial(in both senses of the word). Not only does it present a very selective description of the games (focussing as it does on the US athletics team) but it also contains several inaccuracies, most of which serve to exaggerate the difficulties the US team faced.&lt;br /&gt;&lt;br /&gt;What is even more disturbing is that all the omissions and mistakes (?), appear to glorify US sportsmanship to the exclusion of other athletes (with a few celebrated exceptions). For example, the viewer is led to believe that the US won the majority of medals in the Games, when in fact they won only one out of four gold medals and one out of 6 total. Similarly, many athletes are portrayed as caricatures of their respective countrymen (thus we have an arrogant Brit, and a wine-swilling French). This ...</td>\n",
       "      <td>4.921397</td>\n",
       "    </tr>\n",
       "    <tr>\n",
       "      <th>3</th>\n",
       "      <td>While traveling by train through Europe, the American Jesse (Ethan Hawke) and the French Celine (Julie Delpy) meet each other and decide to spend the night together in Austria. On the next morning, Jesse returns to United States of America, and Celine to Paris. &lt;br /&gt;&lt;br /&gt;\"Before Sunrise\" is one of my favorite romances, indeed one of the most beautiful love stories I have ever seen. It is a low budget movie with a very simple and real storyline, but the chemistry between Ethan Hawke and Julie Delpy is perfect, and the dialogs are stunning. The direction is amazing, transmitting the feelings of Celine and Jesse to the viewer. I have just completed my review number 1,000 in IMDb, and I choose \"Before Sunrise\" for this significant number because it is a very special film for me. I cannot understand why this movie was not nominated to the Oscar, with such a magnificent screenplay, direction and performances. Yesterday I have probably watched this movie for the third or fourth time, a...</td>\n",
       "      <td>4.871658</td>\n",
       "    </tr>\n",
       "    <tr>\n",
       "      <th>4</th>\n",
       "      <td>This movie is not only boring, it is also really badly done. The graphics are so bad, they are not even second rate - they are dreadful. The characters do not show any facial expresssions, the voice acting is empty and without any soul, and the plot absolutely lacks .... well... anything and everything. My 5 year old likes it - but thinks it's a bit boring. I agree with him.</td>\n",
       "      <td>4.323944</td>\n",
       "    </tr>\n",
       "  </tbody>\n",
       "</table>\n",
       "</div>"
      ],
      "text/plain": [
       "                                                                                                                                                                                                                                                                                                                                                                                                                                                                                                                                                                                                                                                                                                                                                                                                                                                                                                                                                                                                                                        en  \\\n",
       "0   The basic formula for the original series was; take someone, get the audience to like them, then put them into Mortal danger. This formula worked for the 32 episodes made between 1964-68. <br /><br />Now, we jump forward 40 years to 2004.. We are introduced to Alan Tracy, a somewhat less-than-diligent college school kid, with his friend, Fermat, a young know-it-all. They are whisked off by Lady Penelope in her pink Ford Thunderbird to the island paradise where the Tracy Family live, for the school holidays. Almost immediately, they are left in the care of Kyrano and his daughter, Tin-Tin whilst the adults go to rescue John from Thunderbird 5 which has been damaged by a staged accident. This is all part of The Hood's scheme to take over Tracy Island so that he can steal the Thunderbird machines ...<br /><br />Â…To rob a bank!<br /><br />Yes. The plot IS as limp as that!<br /><br />The dialogue is banal, the acting more wooden than that of the (fibreglass) puppets, the effects, anyt...   \n",
       "1                                                                                                                                                                                          I may not have the longest of attention-spans, but this is the second movie I have refused to see all the way through, and I even bought it on DVD because of its \"classic\" status. <br /><br />At first, I thought that the director was playing a big joke, so I kept waiting for a resolution, something to laugh at, something to keep my interest, but this resolution never came. Rather, the writing was laughably amateurish, the movie dragged on and felt disjointed, like someone cut a TV series to feature-length. The Academy must have been on drugs when they nominated this movie for no less than eight Oscars.<br /><br />Once again, I repeat myself. This is the second movie I have refused to watch all the way through. The first was \"Exterminator\". I hope this gives you an indication of how bad it really is. 1/10   \n",
       "2   \"Disappointing\" is the best word I could think for this film, especially considering the glowing reviews it receives from some other users.<br /><br />One thing that really spoils the film is that it is unabashedly partial(in both senses of the word). Not only does it present a very selective description of the games (focussing as it does on the US athletics team) but it also contains several inaccuracies, most of which serve to exaggerate the difficulties the US team faced.<br /><br />What is even more disturbing is that all the omissions and mistakes (?), appear to glorify US sportsmanship to the exclusion of other athletes (with a few celebrated exceptions). For example, the viewer is led to believe that the US won the majority of medals in the Games, when in fact they won only one out of four gold medals and one out of 6 total. Similarly, many athletes are portrayed as caricatures of their respective countrymen (thus we have an arrogant Brit, and a wine-swilling French). This ...   \n",
       "3   While traveling by train through Europe, the American Jesse (Ethan Hawke) and the French Celine (Julie Delpy) meet each other and decide to spend the night together in Austria. On the next morning, Jesse returns to United States of America, and Celine to Paris. <br /><br />\"Before Sunrise\" is one of my favorite romances, indeed one of the most beautiful love stories I have ever seen. It is a low budget movie with a very simple and real storyline, but the chemistry between Ethan Hawke and Julie Delpy is perfect, and the dialogs are stunning. The direction is amazing, transmitting the feelings of Celine and Jesse to the viewer. I have just completed my review number 1,000 in IMDb, and I choose \"Before Sunrise\" for this significant number because it is a very special film for me. I cannot understand why this movie was not nominated to the Oscar, with such a magnificent screenplay, direction and performances. Yesterday I have probably watched this movie for the third or fourth time, a...   \n",
       "4                                                                                                                                                                                                                                                                                                                                                                                                                                                                                                                                                                                                                                                This movie is not only boring, it is also really badly done. The graphics are so bad, they are not even second rate - they are dreadful. The characters do not show any facial expresssions, the voice acting is empty and without any soul, and the plot absolutely lacks .... well... anything and everything. My 5 year old likes it - but thinks it's a bit boring. I agree with him.   \n",
       "\n",
       "   avg_word  \n",
       "0  4.815315  \n",
       "1  4.551020  \n",
       "2  4.921397  \n",
       "3  4.871658  \n",
       "4  4.323944  "
      ]
     },
     "execution_count": 13,
     "metadata": {},
     "output_type": "execute_result"
    }
   ],
   "source": [
    "def avg_word(sentence):\n",
    "  words = sentence.split()\n",
    "  return (sum(len(word) for word in words)/len(words))\n",
    "\n",
    "df['avg_word'] = df['en'].apply(lambda x: avg_word(x))\n",
    "df[['en','avg_word']].head()"
   ]
  },
  {
   "cell_type": "code",
   "execution_count": 14,
   "metadata": {},
   "outputs": [
    {
     "data": {
      "text/html": [
       "<div>\n",
       "<style scoped>\n",
       "    .dataframe tbody tr th:only-of-type {\n",
       "        vertical-align: middle;\n",
       "    }\n",
       "\n",
       "    .dataframe tbody tr th {\n",
       "        vertical-align: top;\n",
       "    }\n",
       "\n",
       "    .dataframe thead th {\n",
       "        text-align: right;\n",
       "    }\n",
       "</style>\n",
       "<table border=\"1\" class=\"dataframe\">\n",
       "  <thead>\n",
       "    <tr style=\"text-align: right;\">\n",
       "      <th></th>\n",
       "      <th>en</th>\n",
       "      <th>stopwords</th>\n",
       "    </tr>\n",
       "  </thead>\n",
       "  <tbody>\n",
       "    <tr>\n",
       "      <th>0</th>\n",
       "      <td>The basic formula for the original series was; take someone, get the audience to like them, then put them into Mortal danger. This formula worked for the 32 episodes made between 1964-68. &lt;br /&gt;&lt;br /&gt;Now, we jump forward 40 years to 2004.. We are introduced to Alan Tracy, a somewhat less-than-diligent college school kid, with his friend, Fermat, a young know-it-all. They are whisked off by Lady Penelope in her pink Ford Thunderbird to the island paradise where the Tracy Family live, for the school holidays. Almost immediately, they are left in the care of Kyrano and his daughter, Tin-Tin whilst the adults go to rescue John from Thunderbird 5 which has been damaged by a staged accident. This is all part of The Hood's scheme to take over Tracy Island so that he can steal the Thunderbird machines ...&lt;br /&gt;&lt;br /&gt;Â…To rob a bank!&lt;br /&gt;&lt;br /&gt;Yes. The plot IS as limp as that!&lt;br /&gt;&lt;br /&gt;The dialogue is banal, the acting more wooden than that of the (fibreglass) puppets, the effects, anyt...</td>\n",
       "      <td>162</td>\n",
       "    </tr>\n",
       "    <tr>\n",
       "      <th>1</th>\n",
       "      <td>I may not have the longest of attention-spans, but this is the second movie I have refused to see all the way through, and I even bought it on DVD because of its \"classic\" status. &lt;br /&gt;&lt;br /&gt;At first, I thought that the director was playing a big joke, so I kept waiting for a resolution, something to laugh at, something to keep my interest, but this resolution never came. Rather, the writing was laughably amateurish, the movie dragged on and felt disjointed, like someone cut a TV series to feature-length. The Academy must have been on drugs when they nominated this movie for no less than eight Oscars.&lt;br /&gt;&lt;br /&gt;Once again, I repeat myself. This is the second movie I have refused to watch all the way through. The first was \"Exterminator\". I hope this gives you an indication of how bad it really is. 1/10</td>\n",
       "      <td>59</td>\n",
       "    </tr>\n",
       "    <tr>\n",
       "      <th>2</th>\n",
       "      <td>\"Disappointing\" is the best word I could think for this film, especially considering the glowing reviews it receives from some other users.&lt;br /&gt;&lt;br /&gt;One thing that really spoils the film is that it is unabashedly partial(in both senses of the word). Not only does it present a very selective description of the games (focussing as it does on the US athletics team) but it also contains several inaccuracies, most of which serve to exaggerate the difficulties the US team faced.&lt;br /&gt;&lt;br /&gt;What is even more disturbing is that all the omissions and mistakes (?), appear to glorify US sportsmanship to the exclusion of other athletes (with a few celebrated exceptions). For example, the viewer is led to believe that the US won the majority of medals in the Games, when in fact they won only one out of four gold medals and one out of 6 total. Similarly, many athletes are portrayed as caricatures of their respective countrymen (thus we have an arrogant Brit, and a wine-swilling French). This ...</td>\n",
       "      <td>107</td>\n",
       "    </tr>\n",
       "    <tr>\n",
       "      <th>3</th>\n",
       "      <td>While traveling by train through Europe, the American Jesse (Ethan Hawke) and the French Celine (Julie Delpy) meet each other and decide to spend the night together in Austria. On the next morning, Jesse returns to United States of America, and Celine to Paris. &lt;br /&gt;&lt;br /&gt;\"Before Sunrise\" is one of my favorite romances, indeed one of the most beautiful love stories I have ever seen. It is a low budget movie with a very simple and real storyline, but the chemistry between Ethan Hawke and Julie Delpy is perfect, and the dialogs are stunning. The direction is amazing, transmitting the feelings of Celine and Jesse to the viewer. I have just completed my review number 1,000 in IMDb, and I choose \"Before Sunrise\" for this significant number because it is a very special film for me. I cannot understand why this movie was not nominated to the Oscar, with such a magnificent screenplay, direction and performances. Yesterday I have probably watched this movie for the third or fourth time, a...</td>\n",
       "      <td>74</td>\n",
       "    </tr>\n",
       "    <tr>\n",
       "      <th>4</th>\n",
       "      <td>This movie is not only boring, it is also really badly done. The graphics are so bad, they are not even second rate - they are dreadful. The characters do not show any facial expresssions, the voice acting is empty and without any soul, and the plot absolutely lacks .... well... anything and everything. My 5 year old likes it - but thinks it's a bit boring. I agree with him.</td>\n",
       "      <td>27</td>\n",
       "    </tr>\n",
       "  </tbody>\n",
       "</table>\n",
       "</div>"
      ],
      "text/plain": [
       "                                                                                                                                                                                                                                                                                                                                                                                                                                                                                                                                                                                                                                                                                                                                                                                                                                                                                                                                                                                                                                        en  \\\n",
       "0   The basic formula for the original series was; take someone, get the audience to like them, then put them into Mortal danger. This formula worked for the 32 episodes made between 1964-68. <br /><br />Now, we jump forward 40 years to 2004.. We are introduced to Alan Tracy, a somewhat less-than-diligent college school kid, with his friend, Fermat, a young know-it-all. They are whisked off by Lady Penelope in her pink Ford Thunderbird to the island paradise where the Tracy Family live, for the school holidays. Almost immediately, they are left in the care of Kyrano and his daughter, Tin-Tin whilst the adults go to rescue John from Thunderbird 5 which has been damaged by a staged accident. This is all part of The Hood's scheme to take over Tracy Island so that he can steal the Thunderbird machines ...<br /><br />Â…To rob a bank!<br /><br />Yes. The plot IS as limp as that!<br /><br />The dialogue is banal, the acting more wooden than that of the (fibreglass) puppets, the effects, anyt...   \n",
       "1                                                                                                                                                                                          I may not have the longest of attention-spans, but this is the second movie I have refused to see all the way through, and I even bought it on DVD because of its \"classic\" status. <br /><br />At first, I thought that the director was playing a big joke, so I kept waiting for a resolution, something to laugh at, something to keep my interest, but this resolution never came. Rather, the writing was laughably amateurish, the movie dragged on and felt disjointed, like someone cut a TV series to feature-length. The Academy must have been on drugs when they nominated this movie for no less than eight Oscars.<br /><br />Once again, I repeat myself. This is the second movie I have refused to watch all the way through. The first was \"Exterminator\". I hope this gives you an indication of how bad it really is. 1/10   \n",
       "2   \"Disappointing\" is the best word I could think for this film, especially considering the glowing reviews it receives from some other users.<br /><br />One thing that really spoils the film is that it is unabashedly partial(in both senses of the word). Not only does it present a very selective description of the games (focussing as it does on the US athletics team) but it also contains several inaccuracies, most of which serve to exaggerate the difficulties the US team faced.<br /><br />What is even more disturbing is that all the omissions and mistakes (?), appear to glorify US sportsmanship to the exclusion of other athletes (with a few celebrated exceptions). For example, the viewer is led to believe that the US won the majority of medals in the Games, when in fact they won only one out of four gold medals and one out of 6 total. Similarly, many athletes are portrayed as caricatures of their respective countrymen (thus we have an arrogant Brit, and a wine-swilling French). This ...   \n",
       "3   While traveling by train through Europe, the American Jesse (Ethan Hawke) and the French Celine (Julie Delpy) meet each other and decide to spend the night together in Austria. On the next morning, Jesse returns to United States of America, and Celine to Paris. <br /><br />\"Before Sunrise\" is one of my favorite romances, indeed one of the most beautiful love stories I have ever seen. It is a low budget movie with a very simple and real storyline, but the chemistry between Ethan Hawke and Julie Delpy is perfect, and the dialogs are stunning. The direction is amazing, transmitting the feelings of Celine and Jesse to the viewer. I have just completed my review number 1,000 in IMDb, and I choose \"Before Sunrise\" for this significant number because it is a very special film for me. I cannot understand why this movie was not nominated to the Oscar, with such a magnificent screenplay, direction and performances. Yesterday I have probably watched this movie for the third or fourth time, a...   \n",
       "4                                                                                                                                                                                                                                                                                                                                                                                                                                                                                                                                                                                                                                                This movie is not only boring, it is also really badly done. The graphics are so bad, they are not even second rate - they are dreadful. The characters do not show any facial expresssions, the voice acting is empty and without any soul, and the plot absolutely lacks .... well... anything and everything. My 5 year old likes it - but thinks it's a bit boring. I agree with him.   \n",
       "\n",
       "   stopwords  \n",
       "0        162  \n",
       "1         59  \n",
       "2        107  \n",
       "3         74  \n",
       "4         27  "
      ]
     },
     "execution_count": 14,
     "metadata": {},
     "output_type": "execute_result"
    }
   ],
   "source": [
    "#StopWords\n",
    "from nltk.corpus import stopwords\n",
    "stop = stopwords.words('english')\n",
    "\n",
    "df['stopwords'] = df['en'].apply(lambda x: len([x for x in x.split() if x in stop]))\n",
    "df[['en','stopwords']].head()"
   ]
  },
  {
   "cell_type": "code",
   "execution_count": 15,
   "metadata": {},
   "outputs": [
    {
     "data": {
      "text/html": [
       "<div>\n",
       "<style scoped>\n",
       "    .dataframe tbody tr th:only-of-type {\n",
       "        vertical-align: middle;\n",
       "    }\n",
       "\n",
       "    .dataframe tbody tr th {\n",
       "        vertical-align: top;\n",
       "    }\n",
       "\n",
       "    .dataframe thead th {\n",
       "        text-align: right;\n",
       "    }\n",
       "</style>\n",
       "<table border=\"1\" class=\"dataframe\">\n",
       "  <thead>\n",
       "    <tr style=\"text-align: right;\">\n",
       "      <th></th>\n",
       "      <th>en</th>\n",
       "      <th>hastags</th>\n",
       "    </tr>\n",
       "  </thead>\n",
       "  <tbody>\n",
       "    <tr>\n",
       "      <th>0</th>\n",
       "      <td>The basic formula for the original series was; take someone, get the audience to like them, then put them into Mortal danger. This formula worked for the 32 episodes made between 1964-68. &lt;br /&gt;&lt;br /&gt;Now, we jump forward 40 years to 2004.. We are introduced to Alan Tracy, a somewhat less-than-diligent college school kid, with his friend, Fermat, a young know-it-all. They are whisked off by Lady Penelope in her pink Ford Thunderbird to the island paradise where the Tracy Family live, for the school holidays. Almost immediately, they are left in the care of Kyrano and his daughter, Tin-Tin whilst the adults go to rescue John from Thunderbird 5 which has been damaged by a staged accident. This is all part of The Hood's scheme to take over Tracy Island so that he can steal the Thunderbird machines ...&lt;br /&gt;&lt;br /&gt;Â…To rob a bank!&lt;br /&gt;&lt;br /&gt;Yes. The plot IS as limp as that!&lt;br /&gt;&lt;br /&gt;The dialogue is banal, the acting more wooden than that of the (fibreglass) puppets, the effects, anyt...</td>\n",
       "      <td>0</td>\n",
       "    </tr>\n",
       "    <tr>\n",
       "      <th>1</th>\n",
       "      <td>I may not have the longest of attention-spans, but this is the second movie I have refused to see all the way through, and I even bought it on DVD because of its \"classic\" status. &lt;br /&gt;&lt;br /&gt;At first, I thought that the director was playing a big joke, so I kept waiting for a resolution, something to laugh at, something to keep my interest, but this resolution never came. Rather, the writing was laughably amateurish, the movie dragged on and felt disjointed, like someone cut a TV series to feature-length. The Academy must have been on drugs when they nominated this movie for no less than eight Oscars.&lt;br /&gt;&lt;br /&gt;Once again, I repeat myself. This is the second movie I have refused to watch all the way through. The first was \"Exterminator\". I hope this gives you an indication of how bad it really is. 1/10</td>\n",
       "      <td>0</td>\n",
       "    </tr>\n",
       "    <tr>\n",
       "      <th>2</th>\n",
       "      <td>\"Disappointing\" is the best word I could think for this film, especially considering the glowing reviews it receives from some other users.&lt;br /&gt;&lt;br /&gt;One thing that really spoils the film is that it is unabashedly partial(in both senses of the word). Not only does it present a very selective description of the games (focussing as it does on the US athletics team) but it also contains several inaccuracies, most of which serve to exaggerate the difficulties the US team faced.&lt;br /&gt;&lt;br /&gt;What is even more disturbing is that all the omissions and mistakes (?), appear to glorify US sportsmanship to the exclusion of other athletes (with a few celebrated exceptions). For example, the viewer is led to believe that the US won the majority of medals in the Games, when in fact they won only one out of four gold medals and one out of 6 total. Similarly, many athletes are portrayed as caricatures of their respective countrymen (thus we have an arrogant Brit, and a wine-swilling French). This ...</td>\n",
       "      <td>0</td>\n",
       "    </tr>\n",
       "    <tr>\n",
       "      <th>3</th>\n",
       "      <td>While traveling by train through Europe, the American Jesse (Ethan Hawke) and the French Celine (Julie Delpy) meet each other and decide to spend the night together in Austria. On the next morning, Jesse returns to United States of America, and Celine to Paris. &lt;br /&gt;&lt;br /&gt;\"Before Sunrise\" is one of my favorite romances, indeed one of the most beautiful love stories I have ever seen. It is a low budget movie with a very simple and real storyline, but the chemistry between Ethan Hawke and Julie Delpy is perfect, and the dialogs are stunning. The direction is amazing, transmitting the feelings of Celine and Jesse to the viewer. I have just completed my review number 1,000 in IMDb, and I choose \"Before Sunrise\" for this significant number because it is a very special film for me. I cannot understand why this movie was not nominated to the Oscar, with such a magnificent screenplay, direction and performances. Yesterday I have probably watched this movie for the third or fourth time, a...</td>\n",
       "      <td>0</td>\n",
       "    </tr>\n",
       "    <tr>\n",
       "      <th>4</th>\n",
       "      <td>This movie is not only boring, it is also really badly done. The graphics are so bad, they are not even second rate - they are dreadful. The characters do not show any facial expresssions, the voice acting is empty and without any soul, and the plot absolutely lacks .... well... anything and everything. My 5 year old likes it - but thinks it's a bit boring. I agree with him.</td>\n",
       "      <td>0</td>\n",
       "    </tr>\n",
       "  </tbody>\n",
       "</table>\n",
       "</div>"
      ],
      "text/plain": [
       "                                                                                                                                                                                                                                                                                                                                                                                                                                                                                                                                                                                                                                                                                                                                                                                                                                                                                                                                                                                                                                        en  \\\n",
       "0   The basic formula for the original series was; take someone, get the audience to like them, then put them into Mortal danger. This formula worked for the 32 episodes made between 1964-68. <br /><br />Now, we jump forward 40 years to 2004.. We are introduced to Alan Tracy, a somewhat less-than-diligent college school kid, with his friend, Fermat, a young know-it-all. They are whisked off by Lady Penelope in her pink Ford Thunderbird to the island paradise where the Tracy Family live, for the school holidays. Almost immediately, they are left in the care of Kyrano and his daughter, Tin-Tin whilst the adults go to rescue John from Thunderbird 5 which has been damaged by a staged accident. This is all part of The Hood's scheme to take over Tracy Island so that he can steal the Thunderbird machines ...<br /><br />Â…To rob a bank!<br /><br />Yes. The plot IS as limp as that!<br /><br />The dialogue is banal, the acting more wooden than that of the (fibreglass) puppets, the effects, anyt...   \n",
       "1                                                                                                                                                                                          I may not have the longest of attention-spans, but this is the second movie I have refused to see all the way through, and I even bought it on DVD because of its \"classic\" status. <br /><br />At first, I thought that the director was playing a big joke, so I kept waiting for a resolution, something to laugh at, something to keep my interest, but this resolution never came. Rather, the writing was laughably amateurish, the movie dragged on and felt disjointed, like someone cut a TV series to feature-length. The Academy must have been on drugs when they nominated this movie for no less than eight Oscars.<br /><br />Once again, I repeat myself. This is the second movie I have refused to watch all the way through. The first was \"Exterminator\". I hope this gives you an indication of how bad it really is. 1/10   \n",
       "2   \"Disappointing\" is the best word I could think for this film, especially considering the glowing reviews it receives from some other users.<br /><br />One thing that really spoils the film is that it is unabashedly partial(in both senses of the word). Not only does it present a very selective description of the games (focussing as it does on the US athletics team) but it also contains several inaccuracies, most of which serve to exaggerate the difficulties the US team faced.<br /><br />What is even more disturbing is that all the omissions and mistakes (?), appear to glorify US sportsmanship to the exclusion of other athletes (with a few celebrated exceptions). For example, the viewer is led to believe that the US won the majority of medals in the Games, when in fact they won only one out of four gold medals and one out of 6 total. Similarly, many athletes are portrayed as caricatures of their respective countrymen (thus we have an arrogant Brit, and a wine-swilling French). This ...   \n",
       "3   While traveling by train through Europe, the American Jesse (Ethan Hawke) and the French Celine (Julie Delpy) meet each other and decide to spend the night together in Austria. On the next morning, Jesse returns to United States of America, and Celine to Paris. <br /><br />\"Before Sunrise\" is one of my favorite romances, indeed one of the most beautiful love stories I have ever seen. It is a low budget movie with a very simple and real storyline, but the chemistry between Ethan Hawke and Julie Delpy is perfect, and the dialogs are stunning. The direction is amazing, transmitting the feelings of Celine and Jesse to the viewer. I have just completed my review number 1,000 in IMDb, and I choose \"Before Sunrise\" for this significant number because it is a very special film for me. I cannot understand why this movie was not nominated to the Oscar, with such a magnificent screenplay, direction and performances. Yesterday I have probably watched this movie for the third or fourth time, a...   \n",
       "4                                                                                                                                                                                                                                                                                                                                                                                                                                                                                                                                                                                                                                                This movie is not only boring, it is also really badly done. The graphics are so bad, they are not even second rate - they are dreadful. The characters do not show any facial expresssions, the voice acting is empty and without any soul, and the plot absolutely lacks .... well... anything and everything. My 5 year old likes it - but thinks it's a bit boring. I agree with him.   \n",
       "\n",
       "   hastags  \n",
       "0        0  \n",
       "1        0  \n",
       "2        0  \n",
       "3        0  \n",
       "4        0  "
      ]
     },
     "execution_count": 15,
     "metadata": {},
     "output_type": "execute_result"
    }
   ],
   "source": [
    "#Special Characters\n",
    "df['hastags'] = df['en'].apply(lambda x: len([x for x in x.split() if x.startswith('#')]))\n",
    "df[['en','hastags']].head()"
   ]
  },
  {
   "cell_type": "code",
   "execution_count": 28,
   "metadata": {},
   "outputs": [
    {
     "data": {
      "text/html": [
       "<div>\n",
       "<style scoped>\n",
       "    .dataframe tbody tr th:only-of-type {\n",
       "        vertical-align: middle;\n",
       "    }\n",
       "\n",
       "    .dataframe tbody tr th {\n",
       "        vertical-align: top;\n",
       "    }\n",
       "\n",
       "    .dataframe thead th {\n",
       "        text-align: right;\n",
       "    }\n",
       "</style>\n",
       "<table border=\"1\" class=\"dataframe\">\n",
       "  <thead>\n",
       "    <tr style=\"text-align: right;\">\n",
       "      <th></th>\n",
       "      <th>en</th>\n",
       "      <th>numerics</th>\n",
       "    </tr>\n",
       "  </thead>\n",
       "  <tbody>\n",
       "    <tr>\n",
       "      <th>0</th>\n",
       "      <td>The basic formula for the original series was; take someone, get the audience to like them, then put them into Mortal danger. This formula worked for the 32 episodes made between 1964-68. &lt;br /&gt;&lt;br /&gt;Now, we jump forward 40 years to 2004.. We are introduced to Alan Tracy, a somewhat less-than-diligent college school kid, with his friend, Fermat, a young know-it-all. They are whisked off by Lady Penelope in her pink Ford Thunderbird to the island paradise where the Tracy Family live, for the school holidays. Almost immediately, they are left in the care of Kyrano and his daughter, Tin-Tin whilst the adults go to rescue John from Thunderbird 5 which has been damaged by a staged accident. This is all part of The Hood's scheme to take over Tracy Island so that he can steal the Thunderbird machines ...&lt;br /&gt;&lt;br /&gt;Â…To rob a bank!&lt;br /&gt;&lt;br /&gt;Yes. The plot IS as limp as that!&lt;br /&gt;&lt;br /&gt;The dialogue is banal, the acting more wooden than that of the (fibreglass) puppets, the effects, anyt...</td>\n",
       "      <td>7</td>\n",
       "    </tr>\n",
       "    <tr>\n",
       "      <th>1</th>\n",
       "      <td>I may not have the longest of attention-spans, but this is the second movie I have refused to see all the way through, and I even bought it on DVD because of its \"classic\" status. &lt;br /&gt;&lt;br /&gt;At first, I thought that the director was playing a big joke, so I kept waiting for a resolution, something to laugh at, something to keep my interest, but this resolution never came. Rather, the writing was laughably amateurish, the movie dragged on and felt disjointed, like someone cut a TV series to feature-length. The Academy must have been on drugs when they nominated this movie for no less than eight Oscars.&lt;br /&gt;&lt;br /&gt;Once again, I repeat myself. This is the second movie I have refused to watch all the way through. The first was \"Exterminator\". I hope this gives you an indication of how bad it really is. 1/10</td>\n",
       "      <td>0</td>\n",
       "    </tr>\n",
       "    <tr>\n",
       "      <th>2</th>\n",
       "      <td>\"Disappointing\" is the best word I could think for this film, especially considering the glowing reviews it receives from some other users.&lt;br /&gt;&lt;br /&gt;One thing that really spoils the film is that it is unabashedly partial(in both senses of the word). Not only does it present a very selective description of the games (focussing as it does on the US athletics team) but it also contains several inaccuracies, most of which serve to exaggerate the difficulties the US team faced.&lt;br /&gt;&lt;br /&gt;What is even more disturbing is that all the omissions and mistakes (?), appear to glorify US sportsmanship to the exclusion of other athletes (with a few celebrated exceptions). For example, the viewer is led to believe that the US won the majority of medals in the Games, when in fact they won only one out of four gold medals and one out of 6 total. Similarly, many athletes are portrayed as caricatures of their respective countrymen (thus we have an arrogant Brit, and a wine-swilling French). This ...</td>\n",
       "      <td>1</td>\n",
       "    </tr>\n",
       "    <tr>\n",
       "      <th>3</th>\n",
       "      <td>While traveling by train through Europe, the American Jesse (Ethan Hawke) and the French Celine (Julie Delpy) meet each other and decide to spend the night together in Austria. On the next morning, Jesse returns to United States of America, and Celine to Paris. &lt;br /&gt;&lt;br /&gt;\"Before Sunrise\" is one of my favorite romances, indeed one of the most beautiful love stories I have ever seen. It is a low budget movie with a very simple and real storyline, but the chemistry between Ethan Hawke and Julie Delpy is perfect, and the dialogs are stunning. The direction is amazing, transmitting the feelings of Celine and Jesse to the viewer. I have just completed my review number 1,000 in IMDb, and I choose \"Before Sunrise\" for this significant number because it is a very special film for me. I cannot understand why this movie was not nominated to the Oscar, with such a magnificent screenplay, direction and performances. Yesterday I have probably watched this movie for the third or fourth time, a...</td>\n",
       "      <td>0</td>\n",
       "    </tr>\n",
       "    <tr>\n",
       "      <th>4</th>\n",
       "      <td>This movie is not only boring, it is also really badly done. The graphics are so bad, they are not even second rate - they are dreadful. The characters do not show any facial expresssions, the voice acting is empty and without any soul, and the plot absolutely lacks .... well... anything and everything. My 5 year old likes it - but thinks it's a bit boring. I agree with him.</td>\n",
       "      <td>1</td>\n",
       "    </tr>\n",
       "  </tbody>\n",
       "</table>\n",
       "</div>"
      ],
      "text/plain": [
       "                                                                                                                                                                                                                                                                                                                                                                                                                                                                                                                                                                                                                                                                                                                                                                                                                                                                                                                                                                                                                                        en  \\\n",
       "0   The basic formula for the original series was; take someone, get the audience to like them, then put them into Mortal danger. This formula worked for the 32 episodes made between 1964-68. <br /><br />Now, we jump forward 40 years to 2004.. We are introduced to Alan Tracy, a somewhat less-than-diligent college school kid, with his friend, Fermat, a young know-it-all. They are whisked off by Lady Penelope in her pink Ford Thunderbird to the island paradise where the Tracy Family live, for the school holidays. Almost immediately, they are left in the care of Kyrano and his daughter, Tin-Tin whilst the adults go to rescue John from Thunderbird 5 which has been damaged by a staged accident. This is all part of The Hood's scheme to take over Tracy Island so that he can steal the Thunderbird machines ...<br /><br />Â…To rob a bank!<br /><br />Yes. The plot IS as limp as that!<br /><br />The dialogue is banal, the acting more wooden than that of the (fibreglass) puppets, the effects, anyt...   \n",
       "1                                                                                                                                                                                          I may not have the longest of attention-spans, but this is the second movie I have refused to see all the way through, and I even bought it on DVD because of its \"classic\" status. <br /><br />At first, I thought that the director was playing a big joke, so I kept waiting for a resolution, something to laugh at, something to keep my interest, but this resolution never came. Rather, the writing was laughably amateurish, the movie dragged on and felt disjointed, like someone cut a TV series to feature-length. The Academy must have been on drugs when they nominated this movie for no less than eight Oscars.<br /><br />Once again, I repeat myself. This is the second movie I have refused to watch all the way through. The first was \"Exterminator\". I hope this gives you an indication of how bad it really is. 1/10   \n",
       "2   \"Disappointing\" is the best word I could think for this film, especially considering the glowing reviews it receives from some other users.<br /><br />One thing that really spoils the film is that it is unabashedly partial(in both senses of the word). Not only does it present a very selective description of the games (focussing as it does on the US athletics team) but it also contains several inaccuracies, most of which serve to exaggerate the difficulties the US team faced.<br /><br />What is even more disturbing is that all the omissions and mistakes (?), appear to glorify US sportsmanship to the exclusion of other athletes (with a few celebrated exceptions). For example, the viewer is led to believe that the US won the majority of medals in the Games, when in fact they won only one out of four gold medals and one out of 6 total. Similarly, many athletes are portrayed as caricatures of their respective countrymen (thus we have an arrogant Brit, and a wine-swilling French). This ...   \n",
       "3   While traveling by train through Europe, the American Jesse (Ethan Hawke) and the French Celine (Julie Delpy) meet each other and decide to spend the night together in Austria. On the next morning, Jesse returns to United States of America, and Celine to Paris. <br /><br />\"Before Sunrise\" is one of my favorite romances, indeed one of the most beautiful love stories I have ever seen. It is a low budget movie with a very simple and real storyline, but the chemistry between Ethan Hawke and Julie Delpy is perfect, and the dialogs are stunning. The direction is amazing, transmitting the feelings of Celine and Jesse to the viewer. I have just completed my review number 1,000 in IMDb, and I choose \"Before Sunrise\" for this significant number because it is a very special film for me. I cannot understand why this movie was not nominated to the Oscar, with such a magnificent screenplay, direction and performances. Yesterday I have probably watched this movie for the third or fourth time, a...   \n",
       "4                                                                                                                                                                                                                                                                                                                                                                                                                                                                                                                                                                                                                                                This movie is not only boring, it is also really badly done. The graphics are so bad, they are not even second rate - they are dreadful. The characters do not show any facial expresssions, the voice acting is empty and without any soul, and the plot absolutely lacks .... well... anything and everything. My 5 year old likes it - but thinks it's a bit boring. I agree with him.   \n",
       "\n",
       "   numerics  \n",
       "0         7  \n",
       "1         0  \n",
       "2         1  \n",
       "3         0  \n",
       "4         1  "
      ]
     },
     "execution_count": 28,
     "metadata": {},
     "output_type": "execute_result"
    }
   ],
   "source": [
    "#Count of Numbers\n",
    "df['numerics'] = df['en'].apply(lambda x: len([x for x in x.split() if x.isdigit()]))\n",
    "df[['en','numerics']].head()"
   ]
  },
  {
   "cell_type": "code",
   "execution_count": 16,
   "metadata": {},
   "outputs": [
    {
     "data": {
      "text/html": [
       "<div>\n",
       "<style scoped>\n",
       "    .dataframe tbody tr th:only-of-type {\n",
       "        vertical-align: middle;\n",
       "    }\n",
       "\n",
       "    .dataframe tbody tr th {\n",
       "        vertical-align: top;\n",
       "    }\n",
       "\n",
       "    .dataframe thead th {\n",
       "        text-align: right;\n",
       "    }\n",
       "</style>\n",
       "<table border=\"1\" class=\"dataframe\">\n",
       "  <thead>\n",
       "    <tr style=\"text-align: right;\">\n",
       "      <th></th>\n",
       "      <th>en</th>\n",
       "      <th>upper</th>\n",
       "    </tr>\n",
       "  </thead>\n",
       "  <tbody>\n",
       "    <tr>\n",
       "      <th>0</th>\n",
       "      <td>The basic formula for the original series was; take someone, get the audience to like them, then put them into Mortal danger. This formula worked for the 32 episodes made between 1964-68. &lt;br /&gt;&lt;br /&gt;Now, we jump forward 40 years to 2004.. We are introduced to Alan Tracy, a somewhat less-than-diligent college school kid, with his friend, Fermat, a young know-it-all. They are whisked off by Lady Penelope in her pink Ford Thunderbird to the island paradise where the Tracy Family live, for the school holidays. Almost immediately, they are left in the care of Kyrano and his daughter, Tin-Tin whilst the adults go to rescue John from Thunderbird 5 which has been damaged by a staged accident. This is all part of The Hood's scheme to take over Tracy Island so that he can steal the Thunderbird machines ...&lt;br /&gt;&lt;br /&gt;Â…To rob a bank!&lt;br /&gt;&lt;br /&gt;Yes. The plot IS as limp as that!&lt;br /&gt;&lt;br /&gt;The dialogue is banal, the acting more wooden than that of the (fibreglass) puppets, the effects, anyt...</td>\n",
       "      <td>5</td>\n",
       "    </tr>\n",
       "    <tr>\n",
       "      <th>1</th>\n",
       "      <td>I may not have the longest of attention-spans, but this is the second movie I have refused to see all the way through, and I even bought it on DVD because of its \"classic\" status. &lt;br /&gt;&lt;br /&gt;At first, I thought that the director was playing a big joke, so I kept waiting for a resolution, something to laugh at, something to keep my interest, but this resolution never came. Rather, the writing was laughably amateurish, the movie dragged on and felt disjointed, like someone cut a TV series to feature-length. The Academy must have been on drugs when they nominated this movie for no less than eight Oscars.&lt;br /&gt;&lt;br /&gt;Once again, I repeat myself. This is the second movie I have refused to watch all the way through. The first was \"Exterminator\". I hope this gives you an indication of how bad it really is. 1/10</td>\n",
       "      <td>10</td>\n",
       "    </tr>\n",
       "    <tr>\n",
       "      <th>2</th>\n",
       "      <td>\"Disappointing\" is the best word I could think for this film, especially considering the glowing reviews it receives from some other users.&lt;br /&gt;&lt;br /&gt;One thing that really spoils the film is that it is unabashedly partial(in both senses of the word). Not only does it present a very selective description of the games (focussing as it does on the US athletics team) but it also contains several inaccuracies, most of which serve to exaggerate the difficulties the US team faced.&lt;br /&gt;&lt;br /&gt;What is even more disturbing is that all the omissions and mistakes (?), appear to glorify US sportsmanship to the exclusion of other athletes (with a few celebrated exceptions). For example, the viewer is led to believe that the US won the majority of medals in the Games, when in fact they won only one out of four gold medals and one out of 6 total. Similarly, many athletes are portrayed as caricatures of their respective countrymen (thus we have an arrogant Brit, and a wine-swilling French). This ...</td>\n",
       "      <td>7</td>\n",
       "    </tr>\n",
       "    <tr>\n",
       "      <th>3</th>\n",
       "      <td>While traveling by train through Europe, the American Jesse (Ethan Hawke) and the French Celine (Julie Delpy) meet each other and decide to spend the night together in Austria. On the next morning, Jesse returns to United States of America, and Celine to Paris. &lt;br /&gt;&lt;br /&gt;\"Before Sunrise\" is one of my favorite romances, indeed one of the most beautiful love stories I have ever seen. It is a low budget movie with a very simple and real storyline, but the chemistry between Ethan Hawke and Julie Delpy is perfect, and the dialogs are stunning. The direction is amazing, transmitting the feelings of Celine and Jesse to the viewer. I have just completed my review number 1,000 in IMDb, and I choose \"Before Sunrise\" for this significant number because it is a very special film for me. I cannot understand why this movie was not nominated to the Oscar, with such a magnificent screenplay, direction and performances. Yesterday I have probably watched this movie for the third or fourth time, a...</td>\n",
       "      <td>6</td>\n",
       "    </tr>\n",
       "    <tr>\n",
       "      <th>4</th>\n",
       "      <td>This movie is not only boring, it is also really badly done. The graphics are so bad, they are not even second rate - they are dreadful. The characters do not show any facial expresssions, the voice acting is empty and without any soul, and the plot absolutely lacks .... well... anything and everything. My 5 year old likes it - but thinks it's a bit boring. I agree with him.</td>\n",
       "      <td>1</td>\n",
       "    </tr>\n",
       "  </tbody>\n",
       "</table>\n",
       "</div>"
      ],
      "text/plain": [
       "                                                                                                                                                                                                                                                                                                                                                                                                                                                                                                                                                                                                                                                                                                                                                                                                                                                                                                                                                                                                                                        en  \\\n",
       "0   The basic formula for the original series was; take someone, get the audience to like them, then put them into Mortal danger. This formula worked for the 32 episodes made between 1964-68. <br /><br />Now, we jump forward 40 years to 2004.. We are introduced to Alan Tracy, a somewhat less-than-diligent college school kid, with his friend, Fermat, a young know-it-all. They are whisked off by Lady Penelope in her pink Ford Thunderbird to the island paradise where the Tracy Family live, for the school holidays. Almost immediately, they are left in the care of Kyrano and his daughter, Tin-Tin whilst the adults go to rescue John from Thunderbird 5 which has been damaged by a staged accident. This is all part of The Hood's scheme to take over Tracy Island so that he can steal the Thunderbird machines ...<br /><br />Â…To rob a bank!<br /><br />Yes. The plot IS as limp as that!<br /><br />The dialogue is banal, the acting more wooden than that of the (fibreglass) puppets, the effects, anyt...   \n",
       "1                                                                                                                                                                                          I may not have the longest of attention-spans, but this is the second movie I have refused to see all the way through, and I even bought it on DVD because of its \"classic\" status. <br /><br />At first, I thought that the director was playing a big joke, so I kept waiting for a resolution, something to laugh at, something to keep my interest, but this resolution never came. Rather, the writing was laughably amateurish, the movie dragged on and felt disjointed, like someone cut a TV series to feature-length. The Academy must have been on drugs when they nominated this movie for no less than eight Oscars.<br /><br />Once again, I repeat myself. This is the second movie I have refused to watch all the way through. The first was \"Exterminator\". I hope this gives you an indication of how bad it really is. 1/10   \n",
       "2   \"Disappointing\" is the best word I could think for this film, especially considering the glowing reviews it receives from some other users.<br /><br />One thing that really spoils the film is that it is unabashedly partial(in both senses of the word). Not only does it present a very selective description of the games (focussing as it does on the US athletics team) but it also contains several inaccuracies, most of which serve to exaggerate the difficulties the US team faced.<br /><br />What is even more disturbing is that all the omissions and mistakes (?), appear to glorify US sportsmanship to the exclusion of other athletes (with a few celebrated exceptions). For example, the viewer is led to believe that the US won the majority of medals in the Games, when in fact they won only one out of four gold medals and one out of 6 total. Similarly, many athletes are portrayed as caricatures of their respective countrymen (thus we have an arrogant Brit, and a wine-swilling French). This ...   \n",
       "3   While traveling by train through Europe, the American Jesse (Ethan Hawke) and the French Celine (Julie Delpy) meet each other and decide to spend the night together in Austria. On the next morning, Jesse returns to United States of America, and Celine to Paris. <br /><br />\"Before Sunrise\" is one of my favorite romances, indeed one of the most beautiful love stories I have ever seen. It is a low budget movie with a very simple and real storyline, but the chemistry between Ethan Hawke and Julie Delpy is perfect, and the dialogs are stunning. The direction is amazing, transmitting the feelings of Celine and Jesse to the viewer. I have just completed my review number 1,000 in IMDb, and I choose \"Before Sunrise\" for this significant number because it is a very special film for me. I cannot understand why this movie was not nominated to the Oscar, with such a magnificent screenplay, direction and performances. Yesterday I have probably watched this movie for the third or fourth time, a...   \n",
       "4                                                                                                                                                                                                                                                                                                                                                                                                                                                                                                                                                                                                                                                This movie is not only boring, it is also really badly done. The graphics are so bad, they are not even second rate - they are dreadful. The characters do not show any facial expresssions, the voice acting is empty and without any soul, and the plot absolutely lacks .... well... anything and everything. My 5 year old likes it - but thinks it's a bit boring. I agree with him.   \n",
       "\n",
       "   upper  \n",
       "0      5  \n",
       "1     10  \n",
       "2      7  \n",
       "3      6  \n",
       "4      1  "
      ]
     },
     "execution_count": 16,
     "metadata": {},
     "output_type": "execute_result"
    }
   ],
   "source": [
    "#Uppercase letter\n",
    "df['upper'] = df['en'].apply(lambda x: len([x for x in x.split() if x.isupper()]))\n",
    "df[['en','upper']].head()"
   ]
  },
  {
   "cell_type": "code",
   "execution_count": 17,
   "metadata": {},
   "outputs": [
    {
     "data": {
      "text/plain": [
       "0    the basic formula for the original series was; take someone, get the audience to like them, then put them into mortal danger. this formula worked for the 32 episodes made between 1964-68. <br /><br />now, we jump forward 40 years to 2004.. we are introduced to alan tracy, a somewhat less-than-diligent college school kid, with his friend, fermat, a young know-it-all. they are whisked off by lady penelope in her pink ford thunderbird to the island paradise where the tracy family live, for the school holidays. almost immediately, they are left in the care of kyrano and his daughter, tin-tin whilst the adults go to rescue john from thunderbird 5 which has been damaged by a staged accident. this is all part of the hood's scheme to take over tracy island so that he can steal the thunderbird machines ...<br /><br />â…to rob a bank!<br /><br />yes. the plot is as limp as that!<br /><br />the dialogue is banal, the acting more wooden than that of the (fibreglass) puppets, the effects, anyth...\n",
       "1                                                                                                                                                                                            i may not have the longest of attention-spans, but this is the second movie i have refused to see all the way through, and i even bought it on dvd because of its \"classic\" status. <br /><br />at first, i thought that the director was playing a big joke, so i kept waiting for a resolution, something to laugh at, something to keep my interest, but this resolution never came. rather, the writing was laughably amateurish, the movie dragged on and felt disjointed, like someone cut a tv series to feature-length. the academy must have been on drugs when they nominated this movie for no less than eight oscars.<br /><br />once again, i repeat myself. this is the second movie i have refused to watch all the way through. the first was \"exterminator\". i hope this gives you an indication of how bad it really is. 1/10\n",
       "2    \"disappointing\" is the best word i could think for this film, especially considering the glowing reviews it receives from some other users.<br /><br />one thing that really spoils the film is that it is unabashedly partial(in both senses of the word). not only does it present a very selective description of the games (focussing as it does on the us athletics team) but it also contains several inaccuracies, most of which serve to exaggerate the difficulties the us team faced.<br /><br />what is even more disturbing is that all the omissions and mistakes (?), appear to glorify us sportsmanship to the exclusion of other athletes (with a few celebrated exceptions). for example, the viewer is led to believe that the us won the majority of medals in the games, when in fact they won only one out of four gold medals and one out of 6 total. similarly, many athletes are portrayed as caricatures of their respective countrymen (thus we have an arrogant brit, and a wine-swilling french). this a...\n",
       "3    while traveling by train through europe, the american jesse (ethan hawke) and the french celine (julie delpy) meet each other and decide to spend the night together in austria. on the next morning, jesse returns to united states of america, and celine to paris. <br /><br />\"before sunrise\" is one of my favorite romances, indeed one of the most beautiful love stories i have ever seen. it is a low budget movie with a very simple and real storyline, but the chemistry between ethan hawke and julie delpy is perfect, and the dialogs are stunning. the direction is amazing, transmitting the feelings of celine and jesse to the viewer. i have just completed my review number 1,000 in imdb, and i choose \"before sunrise\" for this significant number because it is a very special film for me. i cannot understand why this movie was not nominated to the oscar, with such a magnificent screenplay, direction and performances. yesterday i have probably watched this movie for the third or fourth time, an...\n",
       "4                                                                                                                                                                                                                                                                                                                                                                                                                                                                                                                                                                                                                                                  this movie is not only boring, it is also really badly done. the graphics are so bad, they are not even second rate - they are dreadful. the characters do not show any facial expresssions, the voice acting is empty and without any soul, and the plot absolutely lacks .... well... anything and everything. my 5 year old likes it - but thinks it's a bit boring. i agree with him.\n",
       "Name: en, dtype: object"
      ]
     },
     "execution_count": 17,
     "metadata": {},
     "output_type": "execute_result"
    }
   ],
   "source": [
    "#Converting into lowercase\n",
    "\n",
    "df['en'] = df['en'].apply(lambda x: \" \".join(x.lower() for x in x.split()))\n",
    "df['en'].head()"
   ]
  },
  {
   "cell_type": "code",
   "execution_count": 20,
   "metadata": {},
   "outputs": [
    {
     "data": {
      "text/plain": [
       "0    the basic formula for the original series was take someone get the audience to like them then put them into mortal danger this formula worked for the 32 episodes made between 196468 br br now we jump forward 40 years to 2004 we are introduced to alan tracy a somewhat lessthandiligent college school kid with his friend fermat a young knowitall they are whisked off by lady penelope in her pink ford thunderbird to the island paradise where the tracy family live for the school holidays almost immediately they are left in the care of kyrano and his daughter tintin whilst the adults go to rescue john from thunderbird 5 which has been damaged by a staged accident this is all part of the hoods scheme to take over tracy island so that he can steal the thunderbird machines br br âto rob a bankbr br yes the plot is as limp as thatbr br the dialogue is banal the acting more wooden than that of the fibreglass puppets the effects anything but special and hans zimmers scoreâ what little there was...\n",
       "1                                                                                                                                                                                                                                  i may not have the longest of attentionspans but this is the second movie i have refused to see all the way through and i even bought it on dvd because of its classic status br br at first i thought that the director was playing a big joke so i kept waiting for a resolution something to laugh at something to keep my interest but this resolution never came rather the writing was laughably amateurish the movie dragged on and felt disjointed like someone cut a tv series to featurelength the academy must have been on drugs when they nominated this movie for no less than eight oscarsbr br once again i repeat myself this is the second movie i have refused to watch all the way through the first was exterminator i hope this gives you an indication of how bad it really is 110\n",
       "2    disappointing is the best word i could think for this film especially considering the glowing reviews it receives from some other usersbr br one thing that really spoils the film is that it is unabashedly partialin both senses of the word not only does it present a very selective description of the games focussing as it does on the us athletics team but it also contains several inaccuracies most of which serve to exaggerate the difficulties the us team facedbr br what is even more disturbing is that all the omissions and mistakes  appear to glorify us sportsmanship to the exclusion of other athletes with a few celebrated exceptions for example the viewer is led to believe that the us won the majority of medals in the games when in fact they won only one out of four gold medals and one out of 6 total similarly many athletes are portrayed as caricatures of their respective countrymen thus we have an arrogant brit and a wineswilling french this attitude does very little service to the...\n",
       "3    while traveling by train through europe the american jesse ethan hawke and the french celine julie delpy meet each other and decide to spend the night together in austria on the next morning jesse returns to united states of america and celine to paris br br before sunrise is one of my favorite romances indeed one of the most beautiful love stories i have ever seen it is a low budget movie with a very simple and real storyline but the chemistry between ethan hawke and julie delpy is perfect and the dialogs are stunning the direction is amazing transmitting the feelings of celine and jesse to the viewer i have just completed my review number 1000 in imdb and i choose before sunrise for this significant number because it is a very special film for me i cannot understand why this movie was not nominated to the oscar with such a magnificent screenplay direction and performances yesterday i have probably watched this movie for the third or fourth time and i still love it my vote is tenb...\n",
       "4                                                                                                                                                                                                                                                                                                                                                                                                                                                                                                                                                                                                                                                                     this movie is not only boring it is also really badly done the graphics are so bad they are not even second rate  they are dreadful the characters do not show any facial expresssions the voice acting is empty and without any soul and the plot absolutely lacks  well anything and everything my 5 year old likes it  but thinks its a bit boring i agree with him\n",
       "Name: en, dtype: object"
      ]
     },
     "execution_count": 20,
     "metadata": {},
     "output_type": "execute_result"
    }
   ],
   "source": [
    "#Removal of punctuation\n",
    "\n",
    "df['en'] = df['en'].str.replace('[^\\w\\s]','')\n",
    "df['en'].head()"
   ]
  },
  {
   "cell_type": "code",
   "execution_count": 21,
   "metadata": {},
   "outputs": [
    {
     "data": {
      "text/plain": [
       "0    basic formula original series take someone get audience like put mortal danger formula worked 32 episodes made 196468 br br jump forward 40 years 2004 introduced alan tracy somewhat lessthandiligent college school kid friend fermat young knowitall whisked lady penelope pink ford thunderbird island paradise tracy family live school holidays almost immediately left care kyrano daughter tintin whilst adults go rescue john thunderbird 5 damaged staged accident part hoods scheme take tracy island steal thunderbird machines br br âto rob bankbr br yes plot limp thatbr br dialogue banal acting wooden fibreglass puppets effects anything special hans zimmers scoreâ little barry grays glorious theme shone zimmers lackluster orchestration rest score eminently forgettable fact part score broadcast following week radio didnt recognise didnt even bother stay witness busteds mediocre efforts end titlesbr br fair ron cook worked quite well parker sophia myles penelope seemed wasted right material ...\n",
       "1                                                                                                                                                                                                                                                                                                                                                                                                                                                                                                                                              may longest attentionspans second movie refused see way even bought dvd classic status br br first thought director playing big joke kept waiting resolution something laugh something keep interest resolution never came rather writing laughably amateurish movie dragged felt disjointed like someone cut tv series featurelength academy must drugs nominated movie less eight oscarsbr br repeat second movie refused watch way first exterminator hope gives indication bad really 110\n",
       "2                                                                                                                                                   disappointing best word could think film especially considering glowing reviews receives usersbr br one thing really spoils film unabashedly partialin senses word present selective description games focussing us athletics team also contains several inaccuracies serve exaggerate difficulties us team facedbr br even disturbing omissions mistakes appear glorify us sportsmanship exclusion athletes celebrated exceptions example viewer led believe us majority medals games fact one four gold medals one 6 total similarly many athletes portrayed caricatures respective countrymen thus arrogant brit wineswilling french attitude little service olympic ideals film supposed celebratebr br conclusion believe film would appeal part us audience looking quick boost national selfesteem looking detailed historically correct description games advised look elsewhere\n",
       "3                                                                                                                                                                                                                                                                                                                   traveling train europe american jesse ethan hawke french celine julie delpy meet decide spend night together austria next morning jesse returns united states america celine paris br br sunrise one favorite romances indeed one beautiful love stories ever seen low budget movie simple real storyline chemistry ethan hawke julie delpy perfect dialogs stunning direction amazing transmitting feelings celine jesse viewer completed review number 1000 imdb choose sunrise significant number special film cannot understand movie nominated oscar magnificent screenplay direction performances yesterday probably watched movie third fourth time still love vote tenbr br title brazil antes amanhecer sunrise\n",
       "4                                                                                                                                                                                                                                                                                                                                                                                                                                                                                                                                                                                                                                                                                                                                                                                                     movie boring also really badly done graphics bad even second rate dreadful characters show facial expresssions voice acting empty without soul plot absolutely lacks well anything everything 5 year old likes thinks bit boring agree\n",
       "Name: en, dtype: object"
      ]
     },
     "execution_count": 21,
     "metadata": {},
     "output_type": "execute_result"
    }
   ],
   "source": [
    "#Removal of stopwords\n",
    "\n",
    "from nltk.corpus import stopwords\n",
    "stop = stopwords.words('english')\n",
    "df['en'] = df['en'].apply(lambda x: \" \".join(x for x in x.split() if x not in stop))\n",
    "df['en'].head()"
   ]
  },
  {
   "cell_type": "code",
   "execution_count": 22,
   "metadata": {},
   "outputs": [
    {
     "data": {
      "text/plain": [
       "br        22509\n",
       "movie     16562\n",
       "film      14995\n",
       "one       10305\n",
       "like       7746\n",
       "good       5683\n",
       "even       5068\n",
       "would      4813\n",
       "time       4614\n",
       "really     4521\n",
       "dtype: int64"
      ]
     },
     "execution_count": 22,
     "metadata": {},
     "output_type": "execute_result"
    }
   ],
   "source": [
    "#Commonly occuring words\n",
    "freq = pd.Series(' '.join(df['en']).split()).value_counts()[:10]\n",
    "freq"
   ]
  },
  {
   "cell_type": "code",
   "execution_count": 23,
   "metadata": {},
   "outputs": [
    {
     "data": {
      "text/plain": [
       "0    basic formula original series take someone get audience like put mortal danger formula worked 32 episodes made 196468 br br jump forward 40 years 2004 introduced alan tracy somewhat lessthandiligent college school kid friend fermat young knowitall whisked lady penelope pink ford thunderbird island paradise tracy family live school holidays almost immediately left care kyrano daughter tintin whilst adults go rescue john thunderbird 5 damaged staged accident part hoods scheme take tracy island steal thunderbird machines br br âto rob bankbr br yes plot limp thatbr br dialogue banal acting wooden fibreglass puppets effects anything special hans zimmers scoreâ little barry grays glorious theme shone zimmers lackluster orchestration rest score eminently forgettable fact part score broadcast following week radio didnt recognise didnt even bother stay witness busteds mediocre efforts end titlesbr br fair ron cook worked quite well parker sophia myles penelope seemed wasted right material ...\n",
       "1                                                                                                                                                                                                                                                                                                                                                                                                                                                                                                                                              may longest attentionspans second movie refused see way even bought dvd classic status br br first thought director playing big joke kept waiting resolution something laugh something keep interest resolution never came rather writing laughably amateurish movie dragged felt disjointed like someone cut tv series featurelength academy must drugs nominated movie less eight oscarsbr br repeat second movie refused watch way first exterminator hope gives indication bad really 110\n",
       "2                                                                                                                                                   disappointing best word could think film especially considering glowing reviews receives usersbr br one thing really spoils film unabashedly partialin senses word present selective description games focussing us athletics team also contains several inaccuracies serve exaggerate difficulties us team facedbr br even disturbing omissions mistakes appear glorify us sportsmanship exclusion athletes celebrated exceptions example viewer led believe us majority medals games fact one four gold medals one 6 total similarly many athletes portrayed caricatures respective countrymen thus arrogant brit wineswilling french attitude little service olympic ideals film supposed celebratebr br conclusion believe film would appeal part us audience looking quick boost national selfesteem looking detailed historically correct description games advised look elsewhere\n",
       "3                                                                                                                                                                                                                                                                                                                   traveling train europe american jesse ethan hawke french celine julie delpy meet decide spend night together austria next morning jesse returns united states america celine paris br br sunrise one favorite romances indeed one beautiful love stories ever seen low budget movie simple real storyline chemistry ethan hawke julie delpy perfect dialogs stunning direction amazing transmitting feelings celine jesse viewer completed review number 1000 imdb choose sunrise significant number special film cannot understand movie nominated oscar magnificent screenplay direction performances yesterday probably watched movie third fourth time still love vote tenbr br title brazil antes amanhecer sunrise\n",
       "4                                                                                                                                                                                                                                                                                                                                                                                                                                                                                                                                                                                                                                                                                                                                                                                                     movie boring also really badly done graphics bad even second rate dreadful characters show facial expresssions voice acting empty without soul plot absolutely lacks well anything everything 5 year old likes thinks bit boring agree\n",
       "Name: en, dtype: object"
      ]
     },
     "execution_count": 23,
     "metadata": {},
     "output_type": "execute_result"
    }
   ],
   "source": [
    "#removal of commonly occuring irrelevant words\n",
    "\n",
    "freq = list(freq)\n",
    "df['en'] = df['en'].apply(lambda x: \" \".join(x for x in x.split() if x not in freq))\n",
    "df['en'].head()"
   ]
  },
  {
   "cell_type": "code",
   "execution_count": 31,
   "metadata": {},
   "outputs": [
    {
     "data": {
      "text/plain": [
       "intangible    1\n",
       "finchbr       1\n",
       "hr            1\n",
       "slotin        1\n",
       "goneril       1\n",
       "             ..\n",
       "delias        1\n",
       "jett          1\n",
       "jut           1\n",
       "garcias       1\n",
       "truthsbr      1\n",
       "Length: 100, dtype: int64"
      ]
     },
     "execution_count": 31,
     "metadata": {},
     "output_type": "execute_result"
    }
   ],
   "source": [
    "#Count of rare words\n",
    "\n",
    "freq_rare = pd.Series(' '.join(df['en']).split()).value_counts()[-100:]\n",
    "freq_rare"
   ]
  },
  {
   "cell_type": "code",
   "execution_count": 32,
   "metadata": {},
   "outputs": [
    {
     "data": {
      "text/plain": [
       "0    basic formula original series take someone get audience like put mortal danger formula worked 32 episodes made 196468 br br jump forward 40 years 2004 introduced alan tracy somewhat lessthandiligent college school kid friend fermat young knowitall whisked lady penelope pink ford thunderbird island paradise tracy family live school holidays almost immediately left care kyrano daughter tintin whilst adults go rescue john thunderbird 5 damaged staged accident part hoods scheme take tracy island steal thunderbird machines br br âto rob bankbr br yes plot limp thatbr br dialogue banal acting wooden fibreglass puppets effects anything special hans zimmers scoreâ little barry grays glorious theme shone zimmers lackluster orchestration rest score eminently forgettable fact part score broadcast following week radio didnt recognise didnt even bother stay witness busteds mediocre efforts end titlesbr br fair ron cook worked quite well parker sophia myles penelope seemed wasted right material ...\n",
       "1                                                                                                                                                                                                                                                                                                                                                                                                                                                                                                                                              may longest attentionspans second movie refused see way even bought dvd classic status br br first thought director playing big joke kept waiting resolution something laugh something keep interest resolution never came rather writing laughably amateurish movie dragged felt disjointed like someone cut tv series featurelength academy must drugs nominated movie less eight oscarsbr br repeat second movie refused watch way first exterminator hope gives indication bad really 110\n",
       "2                                                                                                                                                   disappointing best word could think film especially considering glowing reviews receives usersbr br one thing really spoils film unabashedly partialin senses word present selective description games focussing us athletics team also contains several inaccuracies serve exaggerate difficulties us team facedbr br even disturbing omissions mistakes appear glorify us sportsmanship exclusion athletes celebrated exceptions example viewer led believe us majority medals games fact one four gold medals one 6 total similarly many athletes portrayed caricatures respective countrymen thus arrogant brit wineswilling french attitude little service olympic ideals film supposed celebratebr br conclusion believe film would appeal part us audience looking quick boost national selfesteem looking detailed historically correct description games advised look elsewhere\n",
       "3                                                                                                                                                                                                                                                                                                                   traveling train europe american jesse ethan hawke french celine julie delpy meet decide spend night together austria next morning jesse returns united states america celine paris br br sunrise one favorite romances indeed one beautiful love stories ever seen low budget movie simple real storyline chemistry ethan hawke julie delpy perfect dialogs stunning direction amazing transmitting feelings celine jesse viewer completed review number 1000 imdb choose sunrise significant number special film cannot understand movie nominated oscar magnificent screenplay direction performances yesterday probably watched movie third fourth time still love vote tenbr br title brazil antes amanhecer sunrise\n",
       "4                                                                                                                                                                                                                                                                                                                                                                                                                                                                                                                                                                                                                                                                                                                                                                                                     movie boring also really badly done graphics bad even second rate dreadful characters show facial expresssions voice acting empty without soul plot absolutely lacks well anything everything 5 year old likes thinks bit boring agree\n",
       "Name: en, dtype: object"
      ]
     },
     "execution_count": 32,
     "metadata": {},
     "output_type": "execute_result"
    }
   ],
   "source": [
    "#removal of rarely occuring irrelevant words\n",
    "\n",
    "freq_rare = list(freq_rare)\n",
    "df['en'] = df['en'].apply(lambda x: \" \".join(x for x in x.split() if x not in freq))\n",
    "df['en'].head()"
   ]
  },
  {
   "cell_type": "code",
   "execution_count": 34,
   "metadata": {},
   "outputs": [
    {
     "ename": "KeyboardInterrupt",
     "evalue": "",
     "output_type": "error",
     "traceback": [
      "\u001b[1;31m---------------------------------------------------------------------------\u001b[0m",
      "\u001b[1;31mKeyboardInterrupt\u001b[0m                         Traceback (most recent call last)",
      "\u001b[1;32m<ipython-input-34-a444eba8048d>\u001b[0m in \u001b[0;36m<module>\u001b[1;34m\u001b[0m\n\u001b[0;32m      1\u001b[0m \u001b[1;31m#Spell Correction(Consumes lot of time)\u001b[0m\u001b[1;33m\u001b[0m\u001b[1;33m\u001b[0m\u001b[1;33m\u001b[0m\u001b[0m\n\u001b[0;32m      2\u001b[0m \u001b[1;32mfrom\u001b[0m \u001b[0mtextblob\u001b[0m \u001b[1;32mimport\u001b[0m \u001b[0mTextBlob\u001b[0m\u001b[1;33m\u001b[0m\u001b[1;33m\u001b[0m\u001b[0m\n\u001b[1;32m----> 3\u001b[1;33m \u001b[0mdf\u001b[0m\u001b[1;33m[\u001b[0m\u001b[1;34m'en'\u001b[0m\u001b[1;33m]\u001b[0m\u001b[1;33m=\u001b[0m\u001b[0mdf\u001b[0m\u001b[1;33m[\u001b[0m\u001b[1;34m'en'\u001b[0m\u001b[1;33m]\u001b[0m\u001b[1;33m[\u001b[0m\u001b[1;33m:\u001b[0m\u001b[1;33m]\u001b[0m\u001b[1;33m.\u001b[0m\u001b[0mapply\u001b[0m\u001b[1;33m(\u001b[0m\u001b[1;32mlambda\u001b[0m \u001b[0mx\u001b[0m\u001b[1;33m:\u001b[0m \u001b[0mstr\u001b[0m\u001b[1;33m(\u001b[0m\u001b[0mTextBlob\u001b[0m\u001b[1;33m(\u001b[0m\u001b[0mx\u001b[0m\u001b[1;33m)\u001b[0m\u001b[1;33m.\u001b[0m\u001b[0mcorrect\u001b[0m\u001b[1;33m(\u001b[0m\u001b[1;33m)\u001b[0m\u001b[1;33m)\u001b[0m\u001b[1;33m)\u001b[0m\u001b[1;33m\u001b[0m\u001b[1;33m\u001b[0m\u001b[0m\n\u001b[0m",
      "\u001b[1;32m~\\anaconda3\\lib\\site-packages\\pandas\\core\\series.py\u001b[0m in \u001b[0;36mapply\u001b[1;34m(self, func, convert_dtype, args, **kwds)\u001b[0m\n\u001b[0;32m   4198\u001b[0m             \u001b[1;32melse\u001b[0m\u001b[1;33m:\u001b[0m\u001b[1;33m\u001b[0m\u001b[1;33m\u001b[0m\u001b[0m\n\u001b[0;32m   4199\u001b[0m                 \u001b[0mvalues\u001b[0m \u001b[1;33m=\u001b[0m \u001b[0mself\u001b[0m\u001b[1;33m.\u001b[0m\u001b[0mastype\u001b[0m\u001b[1;33m(\u001b[0m\u001b[0mobject\u001b[0m\u001b[1;33m)\u001b[0m\u001b[1;33m.\u001b[0m\u001b[0m_values\u001b[0m\u001b[1;33m\u001b[0m\u001b[1;33m\u001b[0m\u001b[0m\n\u001b[1;32m-> 4200\u001b[1;33m                 \u001b[0mmapped\u001b[0m \u001b[1;33m=\u001b[0m \u001b[0mlib\u001b[0m\u001b[1;33m.\u001b[0m\u001b[0mmap_infer\u001b[0m\u001b[1;33m(\u001b[0m\u001b[0mvalues\u001b[0m\u001b[1;33m,\u001b[0m \u001b[0mf\u001b[0m\u001b[1;33m,\u001b[0m \u001b[0mconvert\u001b[0m\u001b[1;33m=\u001b[0m\u001b[0mconvert_dtype\u001b[0m\u001b[1;33m)\u001b[0m\u001b[1;33m\u001b[0m\u001b[1;33m\u001b[0m\u001b[0m\n\u001b[0m\u001b[0;32m   4201\u001b[0m \u001b[1;33m\u001b[0m\u001b[0m\n\u001b[0;32m   4202\u001b[0m         \u001b[1;32mif\u001b[0m \u001b[0mlen\u001b[0m\u001b[1;33m(\u001b[0m\u001b[0mmapped\u001b[0m\u001b[1;33m)\u001b[0m \u001b[1;32mand\u001b[0m \u001b[0misinstance\u001b[0m\u001b[1;33m(\u001b[0m\u001b[0mmapped\u001b[0m\u001b[1;33m[\u001b[0m\u001b[1;36m0\u001b[0m\u001b[1;33m]\u001b[0m\u001b[1;33m,\u001b[0m \u001b[0mSeries\u001b[0m\u001b[1;33m)\u001b[0m\u001b[1;33m:\u001b[0m\u001b[1;33m\u001b[0m\u001b[1;33m\u001b[0m\u001b[0m\n",
      "\u001b[1;32mpandas\\_libs\\lib.pyx\u001b[0m in \u001b[0;36mpandas._libs.lib.map_infer\u001b[1;34m()\u001b[0m\n",
      "\u001b[1;32m<ipython-input-34-a444eba8048d>\u001b[0m in \u001b[0;36m<lambda>\u001b[1;34m(x)\u001b[0m\n\u001b[0;32m      1\u001b[0m \u001b[1;31m#Spell Correction(Consumes lot of time)\u001b[0m\u001b[1;33m\u001b[0m\u001b[1;33m\u001b[0m\u001b[1;33m\u001b[0m\u001b[0m\n\u001b[0;32m      2\u001b[0m \u001b[1;32mfrom\u001b[0m \u001b[0mtextblob\u001b[0m \u001b[1;32mimport\u001b[0m \u001b[0mTextBlob\u001b[0m\u001b[1;33m\u001b[0m\u001b[1;33m\u001b[0m\u001b[0m\n\u001b[1;32m----> 3\u001b[1;33m \u001b[0mdf\u001b[0m\u001b[1;33m[\u001b[0m\u001b[1;34m'en'\u001b[0m\u001b[1;33m]\u001b[0m\u001b[1;33m=\u001b[0m\u001b[0mdf\u001b[0m\u001b[1;33m[\u001b[0m\u001b[1;34m'en'\u001b[0m\u001b[1;33m]\u001b[0m\u001b[1;33m[\u001b[0m\u001b[1;33m:\u001b[0m\u001b[1;33m]\u001b[0m\u001b[1;33m.\u001b[0m\u001b[0mapply\u001b[0m\u001b[1;33m(\u001b[0m\u001b[1;32mlambda\u001b[0m \u001b[0mx\u001b[0m\u001b[1;33m:\u001b[0m \u001b[0mstr\u001b[0m\u001b[1;33m(\u001b[0m\u001b[0mTextBlob\u001b[0m\u001b[1;33m(\u001b[0m\u001b[0mx\u001b[0m\u001b[1;33m)\u001b[0m\u001b[1;33m.\u001b[0m\u001b[0mcorrect\u001b[0m\u001b[1;33m(\u001b[0m\u001b[1;33m)\u001b[0m\u001b[1;33m)\u001b[0m\u001b[1;33m)\u001b[0m\u001b[1;33m\u001b[0m\u001b[1;33m\u001b[0m\u001b[0m\n\u001b[0m",
      "\u001b[1;32m~\\anaconda3\\lib\\site-packages\\textblob\\blob.py\u001b[0m in \u001b[0;36mcorrect\u001b[1;34m(self)\u001b[0m\n\u001b[0;32m    578\u001b[0m         \u001b[0mtokens\u001b[0m \u001b[1;33m=\u001b[0m \u001b[0mnltk\u001b[0m\u001b[1;33m.\u001b[0m\u001b[0mtokenize\u001b[0m\u001b[1;33m.\u001b[0m\u001b[0mregexp_tokenize\u001b[0m\u001b[1;33m(\u001b[0m\u001b[0mself\u001b[0m\u001b[1;33m.\u001b[0m\u001b[0mraw\u001b[0m\u001b[1;33m,\u001b[0m \u001b[1;34mr\"\\w+|[^\\w\\s]|\\s\"\u001b[0m\u001b[1;33m)\u001b[0m\u001b[1;33m\u001b[0m\u001b[1;33m\u001b[0m\u001b[0m\n\u001b[0;32m    579\u001b[0m         \u001b[0mcorrected\u001b[0m \u001b[1;33m=\u001b[0m \u001b[1;33m(\u001b[0m\u001b[0mWord\u001b[0m\u001b[1;33m(\u001b[0m\u001b[0mw\u001b[0m\u001b[1;33m)\u001b[0m\u001b[1;33m.\u001b[0m\u001b[0mcorrect\u001b[0m\u001b[1;33m(\u001b[0m\u001b[1;33m)\u001b[0m \u001b[1;32mfor\u001b[0m \u001b[0mw\u001b[0m \u001b[1;32min\u001b[0m \u001b[0mtokens\u001b[0m\u001b[1;33m)\u001b[0m\u001b[1;33m\u001b[0m\u001b[1;33m\u001b[0m\u001b[0m\n\u001b[1;32m--> 580\u001b[1;33m         \u001b[0mret\u001b[0m \u001b[1;33m=\u001b[0m \u001b[1;34m''\u001b[0m\u001b[1;33m.\u001b[0m\u001b[0mjoin\u001b[0m\u001b[1;33m(\u001b[0m\u001b[0mcorrected\u001b[0m\u001b[1;33m)\u001b[0m\u001b[1;33m\u001b[0m\u001b[1;33m\u001b[0m\u001b[0m\n\u001b[0m\u001b[0;32m    581\u001b[0m         \u001b[1;32mreturn\u001b[0m \u001b[0mself\u001b[0m\u001b[1;33m.\u001b[0m\u001b[0m__class__\u001b[0m\u001b[1;33m(\u001b[0m\u001b[0mret\u001b[0m\u001b[1;33m)\u001b[0m\u001b[1;33m\u001b[0m\u001b[1;33m\u001b[0m\u001b[0m\n\u001b[0;32m    582\u001b[0m \u001b[1;33m\u001b[0m\u001b[0m\n",
      "\u001b[1;32m~\\anaconda3\\lib\\site-packages\\textblob\\blob.py\u001b[0m in \u001b[0;36m<genexpr>\u001b[1;34m(.0)\u001b[0m\n\u001b[0;32m    577\u001b[0m         \u001b[1;31m# regex matches: word or punctuation or whitespace\u001b[0m\u001b[1;33m\u001b[0m\u001b[1;33m\u001b[0m\u001b[1;33m\u001b[0m\u001b[0m\n\u001b[0;32m    578\u001b[0m         \u001b[0mtokens\u001b[0m \u001b[1;33m=\u001b[0m \u001b[0mnltk\u001b[0m\u001b[1;33m.\u001b[0m\u001b[0mtokenize\u001b[0m\u001b[1;33m.\u001b[0m\u001b[0mregexp_tokenize\u001b[0m\u001b[1;33m(\u001b[0m\u001b[0mself\u001b[0m\u001b[1;33m.\u001b[0m\u001b[0mraw\u001b[0m\u001b[1;33m,\u001b[0m \u001b[1;34mr\"\\w+|[^\\w\\s]|\\s\"\u001b[0m\u001b[1;33m)\u001b[0m\u001b[1;33m\u001b[0m\u001b[1;33m\u001b[0m\u001b[0m\n\u001b[1;32m--> 579\u001b[1;33m         \u001b[0mcorrected\u001b[0m \u001b[1;33m=\u001b[0m \u001b[1;33m(\u001b[0m\u001b[0mWord\u001b[0m\u001b[1;33m(\u001b[0m\u001b[0mw\u001b[0m\u001b[1;33m)\u001b[0m\u001b[1;33m.\u001b[0m\u001b[0mcorrect\u001b[0m\u001b[1;33m(\u001b[0m\u001b[1;33m)\u001b[0m \u001b[1;32mfor\u001b[0m \u001b[0mw\u001b[0m \u001b[1;32min\u001b[0m \u001b[0mtokens\u001b[0m\u001b[1;33m)\u001b[0m\u001b[1;33m\u001b[0m\u001b[1;33m\u001b[0m\u001b[0m\n\u001b[0m\u001b[0;32m    580\u001b[0m         \u001b[0mret\u001b[0m \u001b[1;33m=\u001b[0m \u001b[1;34m''\u001b[0m\u001b[1;33m.\u001b[0m\u001b[0mjoin\u001b[0m\u001b[1;33m(\u001b[0m\u001b[0mcorrected\u001b[0m\u001b[1;33m)\u001b[0m\u001b[1;33m\u001b[0m\u001b[1;33m\u001b[0m\u001b[0m\n\u001b[0;32m    581\u001b[0m         \u001b[1;32mreturn\u001b[0m \u001b[0mself\u001b[0m\u001b[1;33m.\u001b[0m\u001b[0m__class__\u001b[0m\u001b[1;33m(\u001b[0m\u001b[0mret\u001b[0m\u001b[1;33m)\u001b[0m\u001b[1;33m\u001b[0m\u001b[1;33m\u001b[0m\u001b[0m\n",
      "\u001b[1;32m~\\anaconda3\\lib\\site-packages\\textblob\\blob.py\u001b[0m in \u001b[0;36mcorrect\u001b[1;34m(self)\u001b[0m\n\u001b[0;32m    125\u001b[0m         \u001b[1;33m.\u001b[0m\u001b[1;33m.\u001b[0m \u001b[0mversionadded\u001b[0m\u001b[1;33m:\u001b[0m\u001b[1;33m:\u001b[0m \u001b[1;36m0.6\u001b[0m\u001b[1;36m.0\u001b[0m\u001b[1;33m\u001b[0m\u001b[1;33m\u001b[0m\u001b[0m\n\u001b[0;32m    126\u001b[0m         '''\n\u001b[1;32m--> 127\u001b[1;33m         \u001b[1;32mreturn\u001b[0m \u001b[0mWord\u001b[0m\u001b[1;33m(\u001b[0m\u001b[0mself\u001b[0m\u001b[1;33m.\u001b[0m\u001b[0mspellcheck\u001b[0m\u001b[1;33m(\u001b[0m\u001b[1;33m)\u001b[0m\u001b[1;33m[\u001b[0m\u001b[1;36m0\u001b[0m\u001b[1;33m]\u001b[0m\u001b[1;33m[\u001b[0m\u001b[1;36m0\u001b[0m\u001b[1;33m]\u001b[0m\u001b[1;33m)\u001b[0m\u001b[1;33m\u001b[0m\u001b[1;33m\u001b[0m\u001b[0m\n\u001b[0m\u001b[0;32m    128\u001b[0m \u001b[1;33m\u001b[0m\u001b[0m\n\u001b[0;32m    129\u001b[0m     \u001b[1;33m@\u001b[0m\u001b[0mcached_property\u001b[0m\u001b[1;33m\u001b[0m\u001b[1;33m\u001b[0m\u001b[0m\n",
      "\u001b[1;32m~\\anaconda3\\lib\\site-packages\\textblob\\blob.py\u001b[0m in \u001b[0;36mspellcheck\u001b[1;34m(self)\u001b[0m\n\u001b[0;32m    117\u001b[0m         \u001b[1;33m.\u001b[0m\u001b[1;33m.\u001b[0m \u001b[0mversionadded\u001b[0m\u001b[1;33m:\u001b[0m\u001b[1;33m:\u001b[0m \u001b[1;36m0.6\u001b[0m\u001b[1;36m.0\u001b[0m\u001b[1;33m\u001b[0m\u001b[1;33m\u001b[0m\u001b[0m\n\u001b[0;32m    118\u001b[0m         '''\n\u001b[1;32m--> 119\u001b[1;33m         \u001b[1;32mreturn\u001b[0m \u001b[0msuggest\u001b[0m\u001b[1;33m(\u001b[0m\u001b[0mself\u001b[0m\u001b[1;33m.\u001b[0m\u001b[0mstring\u001b[0m\u001b[1;33m)\u001b[0m\u001b[1;33m\u001b[0m\u001b[1;33m\u001b[0m\u001b[0m\n\u001b[0m\u001b[0;32m    120\u001b[0m \u001b[1;33m\u001b[0m\u001b[0m\n\u001b[0;32m    121\u001b[0m     \u001b[1;32mdef\u001b[0m \u001b[0mcorrect\u001b[0m\u001b[1;33m(\u001b[0m\u001b[0mself\u001b[0m\u001b[1;33m)\u001b[0m\u001b[1;33m:\u001b[0m\u001b[1;33m\u001b[0m\u001b[1;33m\u001b[0m\u001b[0m\n",
      "\u001b[1;32m~\\anaconda3\\lib\\site-packages\\textblob\\en\\__init__.py\u001b[0m in \u001b[0;36msuggest\u001b[1;34m(w)\u001b[0m\n\u001b[0;32m    121\u001b[0m     \"\"\" Returns a list of (word, confidence)-tuples of spelling corrections.\n\u001b[0;32m    122\u001b[0m     \"\"\"\n\u001b[1;32m--> 123\u001b[1;33m     \u001b[1;32mreturn\u001b[0m \u001b[0mspelling\u001b[0m\u001b[1;33m.\u001b[0m\u001b[0msuggest\u001b[0m\u001b[1;33m(\u001b[0m\u001b[0mw\u001b[0m\u001b[1;33m)\u001b[0m\u001b[1;33m\u001b[0m\u001b[1;33m\u001b[0m\u001b[0m\n\u001b[0m\u001b[0;32m    124\u001b[0m \u001b[1;33m\u001b[0m\u001b[0m\n\u001b[0;32m    125\u001b[0m \u001b[1;32mdef\u001b[0m \u001b[0mpolarity\u001b[0m\u001b[1;33m(\u001b[0m\u001b[0ms\u001b[0m\u001b[1;33m,\u001b[0m \u001b[1;33m**\u001b[0m\u001b[0mkwargs\u001b[0m\u001b[1;33m)\u001b[0m\u001b[1;33m:\u001b[0m\u001b[1;33m\u001b[0m\u001b[1;33m\u001b[0m\u001b[0m\n",
      "\u001b[1;32m~\\anaconda3\\lib\\site-packages\\textblob\\_text.py\u001b[0m in \u001b[0;36msuggest\u001b[1;34m(self, w)\u001b[0m\n\u001b[0;32m   1396\u001b[0m         \u001b[0mcandidates\u001b[0m \u001b[1;33m=\u001b[0m \u001b[0mself\u001b[0m\u001b[1;33m.\u001b[0m\u001b[0m_known\u001b[0m\u001b[1;33m(\u001b[0m\u001b[1;33m[\u001b[0m\u001b[0mw\u001b[0m\u001b[1;33m]\u001b[0m\u001b[1;33m)\u001b[0m\u001b[0;31m \u001b[0m\u001b[0;31m\\\u001b[0m\u001b[1;33m\u001b[0m\u001b[1;33m\u001b[0m\u001b[0m\n\u001b[0;32m   1397\u001b[0m                   \u001b[1;32mor\u001b[0m \u001b[0mself\u001b[0m\u001b[1;33m.\u001b[0m\u001b[0m_known\u001b[0m\u001b[1;33m(\u001b[0m\u001b[0mself\u001b[0m\u001b[1;33m.\u001b[0m\u001b[0m_edit1\u001b[0m\u001b[1;33m(\u001b[0m\u001b[0mw\u001b[0m\u001b[1;33m)\u001b[0m\u001b[1;33m)\u001b[0m\u001b[0;31m \u001b[0m\u001b[0;31m\\\u001b[0m\u001b[1;33m\u001b[0m\u001b[1;33m\u001b[0m\u001b[0m\n\u001b[1;32m-> 1398\u001b[1;33m                   \u001b[1;32mor\u001b[0m \u001b[0mself\u001b[0m\u001b[1;33m.\u001b[0m\u001b[0m_known\u001b[0m\u001b[1;33m(\u001b[0m\u001b[0mself\u001b[0m\u001b[1;33m.\u001b[0m\u001b[0m_edit2\u001b[0m\u001b[1;33m(\u001b[0m\u001b[0mw\u001b[0m\u001b[1;33m)\u001b[0m\u001b[1;33m)\u001b[0m\u001b[0;31m \u001b[0m\u001b[0;31m\\\u001b[0m\u001b[1;33m\u001b[0m\u001b[1;33m\u001b[0m\u001b[0m\n\u001b[0m\u001b[0;32m   1399\u001b[0m                   \u001b[1;32mor\u001b[0m \u001b[1;33m[\u001b[0m\u001b[0mw\u001b[0m\u001b[1;33m]\u001b[0m\u001b[1;33m\u001b[0m\u001b[1;33m\u001b[0m\u001b[0m\n\u001b[0;32m   1400\u001b[0m         \u001b[0mcandidates\u001b[0m \u001b[1;33m=\u001b[0m \u001b[1;33m[\u001b[0m\u001b[1;33m(\u001b[0m\u001b[0mself\u001b[0m\u001b[1;33m.\u001b[0m\u001b[0mget\u001b[0m\u001b[1;33m(\u001b[0m\u001b[0mc\u001b[0m\u001b[1;33m,\u001b[0m \u001b[1;36m0.0\u001b[0m\u001b[1;33m)\u001b[0m\u001b[1;33m,\u001b[0m \u001b[0mc\u001b[0m\u001b[1;33m)\u001b[0m \u001b[1;32mfor\u001b[0m \u001b[0mc\u001b[0m \u001b[1;32min\u001b[0m \u001b[0mcandidates\u001b[0m\u001b[1;33m]\u001b[0m\u001b[1;33m\u001b[0m\u001b[1;33m\u001b[0m\u001b[0m\n",
      "\u001b[1;32m~\\anaconda3\\lib\\site-packages\\textblob\\_text.py\u001b[0m in \u001b[0;36m_edit2\u001b[1;34m(self, w)\u001b[0m\n\u001b[0;32m   1373\u001b[0m         \u001b[1;31m# Of all spelling errors, 99% is covered by edit distance 2.\u001b[0m\u001b[1;33m\u001b[0m\u001b[1;33m\u001b[0m\u001b[1;33m\u001b[0m\u001b[0m\n\u001b[0;32m   1374\u001b[0m         \u001b[1;31m# Only keep candidates that are actually known words (20% speedup).\u001b[0m\u001b[1;33m\u001b[0m\u001b[1;33m\u001b[0m\u001b[1;33m\u001b[0m\u001b[0m\n\u001b[1;32m-> 1375\u001b[1;33m         \u001b[1;32mreturn\u001b[0m \u001b[0mset\u001b[0m\u001b[1;33m(\u001b[0m\u001b[0me2\u001b[0m \u001b[1;32mfor\u001b[0m \u001b[0me1\u001b[0m \u001b[1;32min\u001b[0m \u001b[0mself\u001b[0m\u001b[1;33m.\u001b[0m\u001b[0m_edit1\u001b[0m\u001b[1;33m(\u001b[0m\u001b[0mw\u001b[0m\u001b[1;33m)\u001b[0m \u001b[1;32mfor\u001b[0m \u001b[0me2\u001b[0m \u001b[1;32min\u001b[0m \u001b[0mself\u001b[0m\u001b[1;33m.\u001b[0m\u001b[0m_edit1\u001b[0m\u001b[1;33m(\u001b[0m\u001b[0me1\u001b[0m\u001b[1;33m)\u001b[0m \u001b[1;32mif\u001b[0m \u001b[0me2\u001b[0m \u001b[1;32min\u001b[0m \u001b[0mself\u001b[0m\u001b[1;33m)\u001b[0m\u001b[1;33m\u001b[0m\u001b[1;33m\u001b[0m\u001b[0m\n\u001b[0m\u001b[0;32m   1376\u001b[0m \u001b[1;33m\u001b[0m\u001b[0m\n\u001b[0;32m   1377\u001b[0m     \u001b[1;32mdef\u001b[0m \u001b[0m_known\u001b[0m\u001b[1;33m(\u001b[0m\u001b[0mself\u001b[0m\u001b[1;33m,\u001b[0m \u001b[0mwords\u001b[0m\u001b[1;33m=\u001b[0m\u001b[1;33m[\u001b[0m\u001b[1;33m]\u001b[0m\u001b[1;33m)\u001b[0m\u001b[1;33m:\u001b[0m\u001b[1;33m\u001b[0m\u001b[1;33m\u001b[0m\u001b[0m\n",
      "\u001b[1;32m~\\anaconda3\\lib\\site-packages\\textblob\\_text.py\u001b[0m in \u001b[0;36m<genexpr>\u001b[1;34m(.0)\u001b[0m\n\u001b[0;32m   1373\u001b[0m         \u001b[1;31m# Of all spelling errors, 99% is covered by edit distance 2.\u001b[0m\u001b[1;33m\u001b[0m\u001b[1;33m\u001b[0m\u001b[1;33m\u001b[0m\u001b[0m\n\u001b[0;32m   1374\u001b[0m         \u001b[1;31m# Only keep candidates that are actually known words (20% speedup).\u001b[0m\u001b[1;33m\u001b[0m\u001b[1;33m\u001b[0m\u001b[1;33m\u001b[0m\u001b[0m\n\u001b[1;32m-> 1375\u001b[1;33m         \u001b[1;32mreturn\u001b[0m \u001b[0mset\u001b[0m\u001b[1;33m(\u001b[0m\u001b[0me2\u001b[0m \u001b[1;32mfor\u001b[0m \u001b[0me1\u001b[0m \u001b[1;32min\u001b[0m \u001b[0mself\u001b[0m\u001b[1;33m.\u001b[0m\u001b[0m_edit1\u001b[0m\u001b[1;33m(\u001b[0m\u001b[0mw\u001b[0m\u001b[1;33m)\u001b[0m \u001b[1;32mfor\u001b[0m \u001b[0me2\u001b[0m \u001b[1;32min\u001b[0m \u001b[0mself\u001b[0m\u001b[1;33m.\u001b[0m\u001b[0m_edit1\u001b[0m\u001b[1;33m(\u001b[0m\u001b[0me1\u001b[0m\u001b[1;33m)\u001b[0m \u001b[1;32mif\u001b[0m \u001b[0me2\u001b[0m \u001b[1;32min\u001b[0m \u001b[0mself\u001b[0m\u001b[1;33m)\u001b[0m\u001b[1;33m\u001b[0m\u001b[1;33m\u001b[0m\u001b[0m\n\u001b[0m\u001b[0;32m   1376\u001b[0m \u001b[1;33m\u001b[0m\u001b[0m\n\u001b[0;32m   1377\u001b[0m     \u001b[1;32mdef\u001b[0m \u001b[0m_known\u001b[0m\u001b[1;33m(\u001b[0m\u001b[0mself\u001b[0m\u001b[1;33m,\u001b[0m \u001b[0mwords\u001b[0m\u001b[1;33m=\u001b[0m\u001b[1;33m[\u001b[0m\u001b[1;33m]\u001b[0m\u001b[1;33m)\u001b[0m\u001b[1;33m:\u001b[0m\u001b[1;33m\u001b[0m\u001b[1;33m\u001b[0m\u001b[0m\n",
      "\u001b[1;32m~\\anaconda3\\lib\\site-packages\\textblob\\_text.py\u001b[0m in \u001b[0;36m__contains__\u001b[1;34m(self, *args)\u001b[0m\n\u001b[0;32m     94\u001b[0m         \u001b[1;32mreturn\u001b[0m \u001b[0mself\u001b[0m\u001b[1;33m.\u001b[0m\u001b[0m_lazy\u001b[0m\u001b[1;33m(\u001b[0m\u001b[1;34m\"__iter__\"\u001b[0m\u001b[1;33m)\u001b[0m\u001b[1;33m\u001b[0m\u001b[1;33m\u001b[0m\u001b[0m\n\u001b[0;32m     95\u001b[0m     \u001b[1;32mdef\u001b[0m \u001b[0m__contains__\u001b[0m\u001b[1;33m(\u001b[0m\u001b[0mself\u001b[0m\u001b[1;33m,\u001b[0m \u001b[1;33m*\u001b[0m\u001b[0margs\u001b[0m\u001b[1;33m)\u001b[0m\u001b[1;33m:\u001b[0m\u001b[1;33m\u001b[0m\u001b[1;33m\u001b[0m\u001b[0m\n\u001b[1;32m---> 96\u001b[1;33m         \u001b[1;32mreturn\u001b[0m \u001b[0mself\u001b[0m\u001b[1;33m.\u001b[0m\u001b[0m_lazy\u001b[0m\u001b[1;33m(\u001b[0m\u001b[1;34m\"__contains__\"\u001b[0m\u001b[1;33m,\u001b[0m \u001b[1;33m*\u001b[0m\u001b[0margs\u001b[0m\u001b[1;33m)\u001b[0m\u001b[1;33m\u001b[0m\u001b[1;33m\u001b[0m\u001b[0m\n\u001b[0m\u001b[0;32m     97\u001b[0m     \u001b[1;32mdef\u001b[0m \u001b[0m__getitem__\u001b[0m\u001b[1;33m(\u001b[0m\u001b[0mself\u001b[0m\u001b[1;33m,\u001b[0m \u001b[1;33m*\u001b[0m\u001b[0margs\u001b[0m\u001b[1;33m)\u001b[0m\u001b[1;33m:\u001b[0m\u001b[1;33m\u001b[0m\u001b[1;33m\u001b[0m\u001b[0m\n\u001b[0;32m     98\u001b[0m         \u001b[1;32mreturn\u001b[0m \u001b[0mself\u001b[0m\u001b[1;33m.\u001b[0m\u001b[0m_lazy\u001b[0m\u001b[1;33m(\u001b[0m\u001b[1;34m\"__getitem__\"\u001b[0m\u001b[1;33m,\u001b[0m \u001b[1;33m*\u001b[0m\u001b[0margs\u001b[0m\u001b[1;33m)\u001b[0m\u001b[1;33m\u001b[0m\u001b[1;33m\u001b[0m\u001b[0m\n",
      "\u001b[1;32m~\\anaconda3\\lib\\site-packages\\textblob\\_text.py\u001b[0m in \u001b[0;36m_lazy\u001b[1;34m(self, method, *args)\u001b[0m\n\u001b[0;32m     82\u001b[0m             \u001b[0mReplaces\u001b[0m \u001b[0mlazydict\u001b[0m\u001b[1;33m.\u001b[0m\u001b[0mmethod\u001b[0m\u001b[1;33m(\u001b[0m\u001b[1;33m)\u001b[0m \u001b[1;32mwith\u001b[0m \u001b[0mdict\u001b[0m\u001b[1;33m.\u001b[0m\u001b[0mmethod\u001b[0m\u001b[1;33m(\u001b[0m\u001b[1;33m)\u001b[0m \u001b[1;32mand\u001b[0m \u001b[0mcalls\u001b[0m \u001b[0mit\u001b[0m\u001b[1;33m.\u001b[0m\u001b[1;33m\u001b[0m\u001b[1;33m\u001b[0m\u001b[0m\n\u001b[0;32m     83\u001b[0m         \"\"\"\n\u001b[1;32m---> 84\u001b[1;33m         \u001b[1;32mif\u001b[0m \u001b[0mdict\u001b[0m\u001b[1;33m.\u001b[0m\u001b[0m__len__\u001b[0m\u001b[1;33m(\u001b[0m\u001b[0mself\u001b[0m\u001b[1;33m)\u001b[0m \u001b[1;33m==\u001b[0m \u001b[1;36m0\u001b[0m\u001b[1;33m:\u001b[0m\u001b[1;33m\u001b[0m\u001b[1;33m\u001b[0m\u001b[0m\n\u001b[0m\u001b[0;32m     85\u001b[0m             \u001b[0mself\u001b[0m\u001b[1;33m.\u001b[0m\u001b[0mload\u001b[0m\u001b[1;33m(\u001b[0m\u001b[1;33m)\u001b[0m\u001b[1;33m\u001b[0m\u001b[1;33m\u001b[0m\u001b[0m\n\u001b[0;32m     86\u001b[0m             \u001b[0msetattr\u001b[0m\u001b[1;33m(\u001b[0m\u001b[0mself\u001b[0m\u001b[1;33m,\u001b[0m \u001b[0mmethod\u001b[0m\u001b[1;33m,\u001b[0m \u001b[0mtypes\u001b[0m\u001b[1;33m.\u001b[0m\u001b[0mMethodType\u001b[0m\u001b[1;33m(\u001b[0m\u001b[0mgetattr\u001b[0m\u001b[1;33m(\u001b[0m\u001b[0mdict\u001b[0m\u001b[1;33m,\u001b[0m \u001b[0mmethod\u001b[0m\u001b[1;33m)\u001b[0m\u001b[1;33m,\u001b[0m \u001b[0mself\u001b[0m\u001b[1;33m)\u001b[0m\u001b[1;33m)\u001b[0m\u001b[1;33m\u001b[0m\u001b[1;33m\u001b[0m\u001b[0m\n",
      "\u001b[1;31mKeyboardInterrupt\u001b[0m: "
     ]
    }
   ],
   "source": [
    "#Spell Correction(Consumes lot of time)\n",
    "from textblob import TextBlob\n",
    "df['en']=df['en'][:].apply(lambda x: str(TextBlob(x).correct()))"
   ]
  },
  {
   "cell_type": "code",
   "execution_count": 72,
   "metadata": {},
   "outputs": [
    {
     "data": {
      "text/plain": [
       "defaultdict(int,\n",
       "            {'may': 1,\n",
       "             'longest': 1,\n",
       "             'attentionspans': 1,\n",
       "             'second': 2,\n",
       "             'refused': 2,\n",
       "             'see': 1,\n",
       "             'way': 2,\n",
       "             'bought': 1,\n",
       "             'dvd': 1,\n",
       "             'classic': 1,\n",
       "             'status': 1,\n",
       "             'first': 2,\n",
       "             'thought': 1,\n",
       "             'director': 1,\n",
       "             'playing': 1,\n",
       "             'big': 1,\n",
       "             'joke': 1,\n",
       "             'kept': 1,\n",
       "             'waiting': 1,\n",
       "             'resolution': 2,\n",
       "             'something': 2,\n",
       "             'laugh': 1,\n",
       "             'keep': 1,\n",
       "             'interest': 1,\n",
       "             'never': 1,\n",
       "             'came': 1,\n",
       "             'rather': 1,\n",
       "             'writing': 1,\n",
       "             'laughably': 1,\n",
       "             'amateurish': 1,\n",
       "             'dragged': 1,\n",
       "             'felt': 1,\n",
       "             'disjointed': 1,\n",
       "             'someone': 1,\n",
       "             'cut': 1,\n",
       "             'tv': 1,\n",
       "             'series': 1,\n",
       "             'featurelength': 1,\n",
       "             'academy': 1,\n",
       "             'must': 1,\n",
       "             'drug': 1,\n",
       "             'nominated': 1,\n",
       "             'le': 1,\n",
       "             'eight': 1,\n",
       "             'oscarsbr': 1,\n",
       "             'repeat': 1,\n",
       "             'watch': 1,\n",
       "             'exterminator': 1,\n",
       "             'hope': 1,\n",
       "             'give': 1,\n",
       "             'indication': 1,\n",
       "             'bad': 1,\n",
       "             '110': 1})"
      ]
     },
     "execution_count": 72,
     "metadata": {},
     "output_type": "execute_result"
    }
   ],
   "source": [
    "#Tokenization \n",
    "#Exploration of textblob functions\n",
    "\n",
    "TextBlob(df['en'][1]).word_counts"
   ]
  },
  {
   "cell_type": "code",
   "execution_count": 65,
   "metadata": {},
   "outputs": [
    {
     "data": {
      "text/plain": [
       "0    basic formula original series take someone get audience put mortal danger formula worked 32 episode made 196468 jump forward 40 year 2004 introduced alan tracy somewhat lessthandiligent college school kid friend fermat young knowitall whisked lady penelope pink ford thunderbird island paradise tracy family live school holiday almost immediately left care kyrano daughter tintin whilst adult go rescue john thunderbird 5 damaged staged accident part hood scheme take tracy island steal thunderbird machine âto rob bankbr yes plot limp thatbr dialogue banal acting wooden fibreglass puppet effect anything special han zimmer scoreâ little barry gray glorious theme shone zimmer lackluster orchestration rest score eminently forgettable fact part score broadcast following week radio didnt recognise didnt bother stay witness busteds mediocre effort end titlesbr fair ron cook worked quite well parker sophia myles penelope seemed wasted right material could show stopper cgi work called leading e...\n",
       "1                                                                                                                                                                                                                                                                                                                                                                                                                                                                                                                                                                                                    may longest attentionspans second refused see way bought dvd classic status first thought director playing big joke kept waiting resolution something laugh something keep interest resolution never came rather writing laughably amateurish dragged felt disjointed someone cut tv series featurelength academy must drug nominated le eight oscarsbr repeat second refused watch way first exterminator hope give indication bad 110\n",
       "2                                                                                                                                                                                                                                       disappointing best word could think especially considering glowing review receives usersbr thing spoil unabashedly partialin sens word present selective description game focussing u athletics team also contains several inaccuracy serve exaggerate difficulty u team facedbr disturbing omission mistake appear glorify u sportsmanship exclusion athlete celebrated exception example viewer led believe u majority medal game fact four gold medal 6 total similarly many athlete portrayed caricature respective countryman thus arrogant brit wineswilling french attitude little service olympic ideal supposed celebratebr conclusion believe appeal part u audience looking quick boost national selfesteem looking detailed historically correct description game advised look elsewhere\n",
       "3                                                                                                                                                                                                                                                                                                                                                                         traveling train europe american jesse ethan hawke french celine julie delpy meet decide spend night together austria next morning jesse return united state america celine paris sunrise favorite romance indeed beautiful love story ever seen low budget simple real storyline chemistry ethan hawke julie delpy perfect dialog stunning direction amazing transmitting feeling celine jesse viewer completed review number 1000 imdb choose sunrise significant number special cannot understand nominated oscar magnificent screenplay direction performance yesterday probably watched third fourth still love vote tenbr title brazil ante amanhecer sunrise\n",
       "4                                                                                                                                                                                                                                                                                                                                                                                                                                                                                                                                                                                                                                                                                                                                                                                                                            boring also badly done graphic bad second rate dreadful character show facial expresssions voice acting empty without soul plot absolutely lack well anything everything 5 year old like think bit boring agree\n",
       "Name: en, dtype: object"
      ]
     },
     "execution_count": 65,
     "metadata": {},
     "output_type": "execute_result"
    }
   ],
   "source": [
    "#Lemmatization\n",
    "\n",
    "from textblob import Word\n",
    "df['en'] = df['en'].apply(lambda x: \" \".join([Word(word).lemmatize() for word in x.split()]))\n",
    "df['en'].head()"
   ]
  },
  {
   "cell_type": "code",
   "execution_count": 67,
   "metadata": {},
   "outputs": [
    {
     "data": {
      "text/plain": [
       "[WordList(['basic', 'formula', 'original', 'series']),\n",
       " WordList(['formula', 'original', 'series', 'take']),\n",
       " WordList(['original', 'series', 'take', 'someone']),\n",
       " WordList(['series', 'take', 'someone', 'get']),\n",
       " WordList(['take', 'someone', 'get', 'audience']),\n",
       " WordList(['someone', 'get', 'audience', 'put']),\n",
       " WordList(['get', 'audience', 'put', 'mortal']),\n",
       " WordList(['audience', 'put', 'mortal', 'danger']),\n",
       " WordList(['put', 'mortal', 'danger', 'formula']),\n",
       " WordList(['mortal', 'danger', 'formula', 'worked']),\n",
       " WordList(['danger', 'formula', 'worked', '32']),\n",
       " WordList(['formula', 'worked', '32', 'episode']),\n",
       " WordList(['worked', '32', 'episode', 'made']),\n",
       " WordList(['32', 'episode', 'made', '196468']),\n",
       " WordList(['episode', 'made', '196468', 'jump']),\n",
       " WordList(['made', '196468', 'jump', 'forward']),\n",
       " WordList(['196468', 'jump', 'forward', '40']),\n",
       " WordList(['jump', 'forward', '40', 'year']),\n",
       " WordList(['forward', '40', 'year', '2004']),\n",
       " WordList(['40', 'year', '2004', 'introduced']),\n",
       " WordList(['year', '2004', 'introduced', 'alan']),\n",
       " WordList(['2004', 'introduced', 'alan', 'tracy']),\n",
       " WordList(['introduced', 'alan', 'tracy', 'somewhat']),\n",
       " WordList(['alan', 'tracy', 'somewhat', 'lessthandiligent']),\n",
       " WordList(['tracy', 'somewhat', 'lessthandiligent', 'college']),\n",
       " WordList(['somewhat', 'lessthandiligent', 'college', 'school']),\n",
       " WordList(['lessthandiligent', 'college', 'school', 'kid']),\n",
       " WordList(['college', 'school', 'kid', 'friend']),\n",
       " WordList(['school', 'kid', 'friend', 'fermat']),\n",
       " WordList(['kid', 'friend', 'fermat', 'young']),\n",
       " WordList(['friend', 'fermat', 'young', 'knowitall']),\n",
       " WordList(['fermat', 'young', 'knowitall', 'whisked']),\n",
       " WordList(['young', 'knowitall', 'whisked', 'lady']),\n",
       " WordList(['knowitall', 'whisked', 'lady', 'penelope']),\n",
       " WordList(['whisked', 'lady', 'penelope', 'pink']),\n",
       " WordList(['lady', 'penelope', 'pink', 'ford']),\n",
       " WordList(['penelope', 'pink', 'ford', 'thunderbird']),\n",
       " WordList(['pink', 'ford', 'thunderbird', 'island']),\n",
       " WordList(['ford', 'thunderbird', 'island', 'paradise']),\n",
       " WordList(['thunderbird', 'island', 'paradise', 'tracy']),\n",
       " WordList(['island', 'paradise', 'tracy', 'family']),\n",
       " WordList(['paradise', 'tracy', 'family', 'live']),\n",
       " WordList(['tracy', 'family', 'live', 'school']),\n",
       " WordList(['family', 'live', 'school', 'holiday']),\n",
       " WordList(['live', 'school', 'holiday', 'almost']),\n",
       " WordList(['school', 'holiday', 'almost', 'immediately']),\n",
       " WordList(['holiday', 'almost', 'immediately', 'left']),\n",
       " WordList(['almost', 'immediately', 'left', 'care']),\n",
       " WordList(['immediately', 'left', 'care', 'kyrano']),\n",
       " WordList(['left', 'care', 'kyrano', 'daughter']),\n",
       " WordList(['care', 'kyrano', 'daughter', 'tintin']),\n",
       " WordList(['kyrano', 'daughter', 'tintin', 'whilst']),\n",
       " WordList(['daughter', 'tintin', 'whilst', 'adult']),\n",
       " WordList(['tintin', 'whilst', 'adult', 'go']),\n",
       " WordList(['whilst', 'adult', 'go', 'rescue']),\n",
       " WordList(['adult', 'go', 'rescue', 'john']),\n",
       " WordList(['go', 'rescue', 'john', 'thunderbird']),\n",
       " WordList(['rescue', 'john', 'thunderbird', '5']),\n",
       " WordList(['john', 'thunderbird', '5', 'damaged']),\n",
       " WordList(['thunderbird', '5', 'damaged', 'staged']),\n",
       " WordList(['5', 'damaged', 'staged', 'accident']),\n",
       " WordList(['damaged', 'staged', 'accident', 'part']),\n",
       " WordList(['staged', 'accident', 'part', 'hood']),\n",
       " WordList(['accident', 'part', 'hood', 'scheme']),\n",
       " WordList(['part', 'hood', 'scheme', 'take']),\n",
       " WordList(['hood', 'scheme', 'take', 'tracy']),\n",
       " WordList(['scheme', 'take', 'tracy', 'island']),\n",
       " WordList(['take', 'tracy', 'island', 'steal']),\n",
       " WordList(['tracy', 'island', 'steal', 'thunderbird']),\n",
       " WordList(['island', 'steal', 'thunderbird', 'machine']),\n",
       " WordList(['steal', 'thunderbird', 'machine', 'âto']),\n",
       " WordList(['thunderbird', 'machine', 'âto', 'rob']),\n",
       " WordList(['machine', 'âto', 'rob', 'bankbr']),\n",
       " WordList(['âto', 'rob', 'bankbr', 'yes']),\n",
       " WordList(['rob', 'bankbr', 'yes', 'plot']),\n",
       " WordList(['bankbr', 'yes', 'plot', 'limp']),\n",
       " WordList(['yes', 'plot', 'limp', 'thatbr']),\n",
       " WordList(['plot', 'limp', 'thatbr', 'dialogue']),\n",
       " WordList(['limp', 'thatbr', 'dialogue', 'banal']),\n",
       " WordList(['thatbr', 'dialogue', 'banal', 'acting']),\n",
       " WordList(['dialogue', 'banal', 'acting', 'wooden']),\n",
       " WordList(['banal', 'acting', 'wooden', 'fibreglass']),\n",
       " WordList(['acting', 'wooden', 'fibreglass', 'puppet']),\n",
       " WordList(['wooden', 'fibreglass', 'puppet', 'effect']),\n",
       " WordList(['fibreglass', 'puppet', 'effect', 'anything']),\n",
       " WordList(['puppet', 'effect', 'anything', 'special']),\n",
       " WordList(['effect', 'anything', 'special', 'han']),\n",
       " WordList(['anything', 'special', 'han', 'zimmer']),\n",
       " WordList(['special', 'han', 'zimmer', 'scoreâ']),\n",
       " WordList(['han', 'zimmer', 'scoreâ', 'little']),\n",
       " WordList(['zimmer', 'scoreâ', 'little', 'barry']),\n",
       " WordList(['scoreâ', 'little', 'barry', 'gray']),\n",
       " WordList(['little', 'barry', 'gray', 'glorious']),\n",
       " WordList(['barry', 'gray', 'glorious', 'theme']),\n",
       " WordList(['gray', 'glorious', 'theme', 'shone']),\n",
       " WordList(['glorious', 'theme', 'shone', 'zimmer']),\n",
       " WordList(['theme', 'shone', 'zimmer', 'lackluster']),\n",
       " WordList(['shone', 'zimmer', 'lackluster', 'orchestration']),\n",
       " WordList(['zimmer', 'lackluster', 'orchestration', 'rest']),\n",
       " WordList(['lackluster', 'orchestration', 'rest', 'score']),\n",
       " WordList(['orchestration', 'rest', 'score', 'eminently']),\n",
       " WordList(['rest', 'score', 'eminently', 'forgettable']),\n",
       " WordList(['score', 'eminently', 'forgettable', 'fact']),\n",
       " WordList(['eminently', 'forgettable', 'fact', 'part']),\n",
       " WordList(['forgettable', 'fact', 'part', 'score']),\n",
       " WordList(['fact', 'part', 'score', 'broadcast']),\n",
       " WordList(['part', 'score', 'broadcast', 'following']),\n",
       " WordList(['score', 'broadcast', 'following', 'week']),\n",
       " WordList(['broadcast', 'following', 'week', 'radio']),\n",
       " WordList(['following', 'week', 'radio', 'didnt']),\n",
       " WordList(['week', 'radio', 'didnt', 'recognise']),\n",
       " WordList(['radio', 'didnt', 'recognise', 'didnt']),\n",
       " WordList(['didnt', 'recognise', 'didnt', 'bother']),\n",
       " WordList(['recognise', 'didnt', 'bother', 'stay']),\n",
       " WordList(['didnt', 'bother', 'stay', 'witness']),\n",
       " WordList(['bother', 'stay', 'witness', 'busteds']),\n",
       " WordList(['stay', 'witness', 'busteds', 'mediocre']),\n",
       " WordList(['witness', 'busteds', 'mediocre', 'effort']),\n",
       " WordList(['busteds', 'mediocre', 'effort', 'end']),\n",
       " WordList(['mediocre', 'effort', 'end', 'titlesbr']),\n",
       " WordList(['effort', 'end', 'titlesbr', 'fair']),\n",
       " WordList(['end', 'titlesbr', 'fair', 'ron']),\n",
       " WordList(['titlesbr', 'fair', 'ron', 'cook']),\n",
       " WordList(['fair', 'ron', 'cook', 'worked']),\n",
       " WordList(['ron', 'cook', 'worked', 'quite']),\n",
       " WordList(['cook', 'worked', 'quite', 'well']),\n",
       " WordList(['worked', 'quite', 'well', 'parker']),\n",
       " WordList(['quite', 'well', 'parker', 'sophia']),\n",
       " WordList(['well', 'parker', 'sophia', 'myles']),\n",
       " WordList(['parker', 'sophia', 'myles', 'penelope']),\n",
       " WordList(['sophia', 'myles', 'penelope', 'seemed']),\n",
       " WordList(['myles', 'penelope', 'seemed', 'wasted']),\n",
       " WordList(['penelope', 'seemed', 'wasted', 'right']),\n",
       " WordList(['seemed', 'wasted', 'right', 'material']),\n",
       " WordList(['wasted', 'right', 'material', 'could']),\n",
       " WordList(['right', 'material', 'could', 'show']),\n",
       " WordList(['material', 'could', 'show', 'stopper']),\n",
       " WordList(['could', 'show', 'stopper', 'cgi']),\n",
       " WordList(['show', 'stopper', 'cgi', 'work']),\n",
       " WordList(['stopper', 'cgi', 'work', 'called']),\n",
       " WordList(['cgi', 'work', 'called', 'leading']),\n",
       " WordList(['work', 'called', 'leading', 'edge']),\n",
       " WordList(['called', 'leading', 'edge', '5']),\n",
       " WordList(['leading', 'edge', '5', 'year']),\n",
       " WordList(['edge', '5', 'year', 'agobr']),\n",
       " WordList(['5', 'year', 'agobr', 'dynamic']),\n",
       " WordList(['year', 'agobr', 'dynamic', 'main']),\n",
       " WordList(['agobr', 'dynamic', 'main', 'craft']),\n",
       " WordList(['dynamic', 'main', 'craft', 'wrong']),\n",
       " WordList(['main', 'craft', 'wrong', 'original']),\n",
       " WordList(['craft', 'wrong', 'original', 'series']),\n",
       " WordList(['wrong', 'original', 'series', 'model']),\n",
       " WordList(['original', 'series', 'model', 'least']),\n",
       " WordList(['series', 'model', 'least', 'moved']),\n",
       " WordList(['model', 'least', 'moved', 'massbr']),\n",
       " WordList(['least', 'moved', 'massbr', 'another']),\n",
       " WordList(['moved', 'massbr', 'another', 'sore']),\n",
       " WordList(['massbr', 'another', 'sore', 'point']),\n",
       " WordList(['another', 'sore', 'point', 'whole']),\n",
       " WordList(['sore', 'point', 'whole', 'production']),\n",
       " WordList(['point', 'whole', 'production', 'seemed']),\n",
       " WordList(['whole', 'production', 'seemed', 'long']),\n",
       " WordList(['production', 'seemed', 'long', 'set']),\n",
       " WordList(['seemed', 'long', 'set', 'product']),\n",
       " WordList(['long', 'set', 'product', 'placement']),\n",
       " WordList(['set', 'product', 'placement', 'every']),\n",
       " WordList(['product', 'placement', 'every', 'vehicle']),\n",
       " WordList(['placement', 'every', 'vehicle', 'built']),\n",
       " WordList(['every', 'vehicle', 'built', 'ford']),\n",
       " WordList(['vehicle', 'built', 'ford', 'entire']),\n",
       " WordList(['built', 'ford', 'entire', 'content']),\n",
       " WordList(['ford', 'entire', 'content', 'tracy']),\n",
       " WordList(['entire', 'content', 'tracy', 'freezer']),\n",
       " WordList(['content', 'tracy', 'freezer', 'produced']),\n",
       " WordList(['tracy', 'freezer', 'produced', 'ben']),\n",
       " WordList(['freezer', 'produced', 'ben', 'jerrysbr']),\n",
       " WordList(['produced', 'ben', 'jerrysbr', 'son']),\n",
       " WordList(['ben', 'jerrysbr', 'son', '9']),\n",
       " WordList(['jerrysbr', 'son', '9', 'enjoyed']),\n",
       " WordList(['son', '9', 'enjoyed', 'cross']),\n",
       " WordList(['9', 'enjoyed', 'cross', 'spy']),\n",
       " WordList(['enjoyed', 'cross', 'spy', 'kid']),\n",
       " WordList(['cross', 'spy', 'kid', 'clockstoppers']),\n",
       " WordList(['spy', 'kid', 'clockstoppers', 'aimed']),\n",
       " WordList(['kid', 'clockstoppers', 'aimed', 'squarely']),\n",
       " WordList(['clockstoppers', 'aimed', 'squarely', 'age']),\n",
       " WordList(['aimed', 'squarely', 'age', 'group']),\n",
       " WordList(['squarely', 'age', 'group', 'added']),\n",
       " WordList(['age', 'group', 'added', 'nothing']),\n",
       " WordList(['group', 'added', 'nothing', 'thunderbird']),\n",
       " WordList(['added', 'nothing', 'thunderbird', 'legend']),\n",
       " WordList(['nothing', 'thunderbird', 'legend', 'star']),\n",
       " WordList(['thunderbird', 'legend', 'star', 'trek']),\n",
       " WordList(['legend', 'star', 'trek', 'hit']),\n",
       " WordList(['star', 'trek', 'hit', 'big']),\n",
       " WordList(['trek', 'hit', 'big', 'screen']),\n",
       " WordList(['hit', 'big', 'screen', '1979']),\n",
       " WordList(['big', 'screen', '1979', 'motion']),\n",
       " WordList(['screen', '1979', 'motion', 'picture']),\n",
       " WordList(['1979', 'motion', 'picture', 'whole']),\n",
       " WordList(['motion', 'picture', 'whole', 'new']),\n",
       " WordList(['picture', 'whole', 'new', 'lease']),\n",
       " WordList(['whole', 'new', 'lease', 'life']),\n",
       " WordList(['new', 'lease', 'life', 'breathed']),\n",
       " WordList(['lease', 'life', 'breathed', 'franchise']),\n",
       " WordList(['life', 'breathed', 'franchise', 'continued']),\n",
       " WordList(['breathed', 'franchise', 'continued', 'another']),\n",
       " WordList(['franchise', 'continued', 'another', '20']),\n",
       " WordList(['continued', 'another', '20', 'year']),\n",
       " WordList(['another', '20', 'year', 'frakes']),\n",
       " WordList(['20', 'year', 'frakes', 'missed']),\n",
       " WordList(['year', 'frakes', 'missed', 'golden']),\n",
       " WordList(['frakes', 'missed', 'golden', 'opportunity']),\n",
       " WordList(['missed', 'golden', 'opportunity', 'thunderbird']),\n",
       " WordList(['golden', 'opportunity', 'thunderbird', 'franchisebr']),\n",
       " WordList(['opportunity', 'thunderbird', 'franchisebr', 'predict']),\n",
       " WordList(['thunderbird', 'franchisebr', 'predict', 'avenger']),\n",
       " WordList(['franchisebr', 'predict', 'avenger', 'saint']),\n",
       " WordList(['predict', 'avenger', 'saint', 'sink']),\n",
       " WordList(['avenger', 'saint', 'sink', 'obscurity']),\n",
       " WordList(['saint', 'sink', 'obscurity', 'within']),\n",
       " WordList(['sink', 'obscurity', 'within', '6']),\n",
       " WordList(['obscurity', 'within', '6', 'month']),\n",
       " WordList(['within', '6', 'month', 'leaving']),\n",
       " WordList(['6', 'month', 'leaving', 'original']),\n",
       " WordList(['month', 'leaving', 'original', 'series']),\n",
       " WordList(['leaving', 'original', 'series', 'classic']),\n",
       " WordList(['original', 'series', 'classic', 'status'])]"
      ]
     },
     "execution_count": 67,
     "metadata": {},
     "output_type": "execute_result"
    }
   ],
   "source": [
    "#n-gram\n",
    "\n",
    "TextBlob(df['en'][0]).ngrams(4)"
   ]
  },
  {
   "cell_type": "code",
   "execution_count": 1,
   "metadata": {},
   "outputs": [],
   "source": [
    "from sklearn.feature_extraction.text import CountVectorizer"
   ]
  },
  {
   "cell_type": "code",
   "execution_count": null,
   "metadata": {},
   "outputs": [],
   "source": []
  }
 ],
 "metadata": {
  "kernelspec": {
   "display_name": "Python 3",
   "language": "python",
   "name": "python3"
  },
  "language_info": {
   "codemirror_mode": {
    "name": "ipython",
    "version": 3
   },
   "file_extension": ".py",
   "mimetype": "text/x-python",
   "name": "python",
   "nbconvert_exporter": "python",
   "pygments_lexer": "ipython3",
   "version": "3.7.6"
  }
 },
 "nbformat": 4,
 "nbformat_minor": 4
}
